{
 "metadata": {
  "name": "",
  "signature": "sha256:88477efaaa33836675be2ebb1dac3a4c599bc483d7ccb7b48c13584e2cdc94bb"
 },
 "nbformat": 3,
 "nbformat_minor": 0,
 "worksheets": [
  {
   "cells": [
    {
     "cell_type": "code",
     "collapsed": false,
     "input": [
      "filelist = !ls\n",
      "for x,i in enumerate(filelist):\n",
      "    print '#',x, '--->',i"
     ],
     "language": "python",
     "metadata": {},
     "outputs": [
      {
       "output_type": "stream",
       "stream": "stdout",
       "text": [
        "# 0 ---> Lib00_Esenciales_IPython_Notebook.ipynb\n",
        "# 1 ---> Lib01_Esenciales_IPython_Notebook.ipynb\n",
        "# 2 ---> Lib02_Esenciales_IPython_Notebook.ipynb\n",
        "# 3 ---> Lib02_Sanchez_Domingo_IPython_Notebook.ipynb\n",
        "# 4 ---> Lib03_Esenciales_IPython_Notebook.ipynb\n",
        "# 5 ---> Lib03_Sanchez_Domingo_IPython_Notebook.ipynb\n",
        "# 6 ---> Lib04_Esenciales_IPython_Notebook.ipynb\n",
        "# 7 ---> Lib04_Sanchez_Domingo.ipynb\n",
        "# 8 ---> Lib05_Esenciales_IPython_Notebook.ipynb\n",
        "# 9 ---> Lib05_Sanchez_Domingo.ipynb\n",
        "# 10 ---> Lib06_Esenciales_IPython_Notebook.ipynb\n",
        "# 11 ---> Lib07_Esenciales_IPython_Notebook.ipynb\n",
        "# 12 ---> Lib08_Esenciales_IPython_Notebook.ipynb\n",
        "# 13 ---> Lib09_Esenciales_IPython_Notebook.ipynb\n",
        "# 14 ---> Lib10_Esenciales_IPython_Notebook.ipynb\n",
        "# 15 ---> Lib11_GIT01_RevisionControl_1aEtapa.ipynb\n",
        "# 16 ---> Lib12_GIT02_RevisionControl_2aEtapa.ipynb\n",
        "# 17 ---> Lib13_GIT03_RevisionControl_3aEtapa.ipynb\n",
        "# 18 ---> Lib14_GIT04_RevisionControl_4aEtapa.ipynb\n",
        "# 19 ---> Lib15_GIT05_RevisionControl_Aplicacion.ipynb\n",
        "# 20 ---> Untitled0.ipynb\n",
        "# 21 ---> Untitled1.ipynb\n",
        "# 22 ---> Untitled2.ipynb\n",
        "# 23 ---> Untitled3.ipynb\n",
        "# 24 ---> Untitled4.ipynb\n"
       ]
      }
     ],
     "prompt_number": 1
    },
    {
     "cell_type": "code",
     "collapsed": false,
     "input": [
      "#MAS"
     ],
     "language": "python",
     "metadata": {},
     "outputs": [],
     "prompt_number": 2
    },
    {
     "cell_type": "code",
     "collapsed": false,
     "input": [
      "from IPython.display import FileLink, FileLinks\n",
      "FileLinks('.')"
     ],
     "language": "python",
     "metadata": {},
     "outputs": [
      {
       "html": [
        "./<br>\n",
        "&nbsp;&nbsp;<a href='./Lib04_Sanchez_Domingo.ipynb' target='_blank'>Lib04_Sanchez_Domingo.ipynb</a><br>\n",
        "&nbsp;&nbsp;<a href='./Untitled4.ipynb' target='_blank'>Untitled4.ipynb</a><br>\n",
        "&nbsp;&nbsp;<a href='./Lib05_Esenciales_IPython_Notebook.ipynb' target='_blank'>Lib05_Esenciales_IPython_Notebook.ipynb</a><br>\n",
        "&nbsp;&nbsp;<a href='./Lib03_Sanchez_Domingo_IPython_Notebook.ipynb' target='_blank'>Lib03_Sanchez_Domingo_IPython_Notebook.ipynb</a><br>\n",
        "&nbsp;&nbsp;<a href='./Lib00_Esenciales_IPython_Notebook.ipynb' target='_blank'>Lib00_Esenciales_IPython_Notebook.ipynb</a><br>\n",
        "&nbsp;&nbsp;<a href='./Lib08_Esenciales_IPython_Notebook.ipynb' target='_blank'>Lib08_Esenciales_IPython_Notebook.ipynb</a><br>\n",
        "&nbsp;&nbsp;<a href='./Lib02_Sanchez_Domingo_IPython_Notebook.ipynb' target='_blank'>Lib02_Sanchez_Domingo_IPython_Notebook.ipynb</a><br>\n",
        "&nbsp;&nbsp;<a href='./Untitled3.ipynb' target='_blank'>Untitled3.ipynb</a><br>\n",
        "&nbsp;&nbsp;<a href='./Lib03_Esenciales_IPython_Notebook.ipynb' target='_blank'>Lib03_Esenciales_IPython_Notebook.ipynb</a><br>\n",
        "&nbsp;&nbsp;<a href='./Lib11_GIT01_RevisionControl_1aEtapa.ipynb' target='_blank'>Lib11_GIT01_RevisionControl_1aEtapa.ipynb</a><br>\n",
        "&nbsp;&nbsp;<a href='./Lib12_GIT02_RevisionControl_2aEtapa.ipynb' target='_blank'>Lib12_GIT02_RevisionControl_2aEtapa.ipynb</a><br>\n",
        "&nbsp;&nbsp;<a href='./Lib14_GIT04_RevisionControl_4aEtapa.ipynb' target='_blank'>Lib14_GIT04_RevisionControl_4aEtapa.ipynb</a><br>\n",
        "&nbsp;&nbsp;<a href='./Untitled1.ipynb' target='_blank'>Untitled1.ipynb</a><br>\n",
        "&nbsp;&nbsp;<a href='./Lib10_Esenciales_IPython_Notebook.ipynb' target='_blank'>Lib10_Esenciales_IPython_Notebook.ipynb</a><br>\n",
        "&nbsp;&nbsp;<a href='./Lib09_Esenciales_IPython_Notebook.ipynb' target='_blank'>Lib09_Esenciales_IPython_Notebook.ipynb</a><br>\n",
        "&nbsp;&nbsp;<a href='./Lib05_Sanchez_Domingo.ipynb' target='_blank'>Lib05_Sanchez_Domingo.ipynb</a><br>\n",
        "&nbsp;&nbsp;<a href='./Untitled2.ipynb' target='_blank'>Untitled2.ipynb</a><br>\n",
        "&nbsp;&nbsp;<a href='./Lib15_GIT05_RevisionControl_Aplicacion.ipynb' target='_blank'>Lib15_GIT05_RevisionControl_Aplicacion.ipynb</a><br>\n",
        "&nbsp;&nbsp;<a href='./Lib07_Esenciales_IPython_Notebook.ipynb' target='_blank'>Lib07_Esenciales_IPython_Notebook.ipynb</a><br>\n",
        "&nbsp;&nbsp;<a href='./Lib04_Esenciales_IPython_Notebook.ipynb' target='_blank'>Lib04_Esenciales_IPython_Notebook.ipynb</a><br>\n",
        "&nbsp;&nbsp;<a href='./Lib01_Esenciales_IPython_Notebook.ipynb' target='_blank'>Lib01_Esenciales_IPython_Notebook.ipynb</a><br>\n",
        "&nbsp;&nbsp;<a href='./Lib13_GIT03_RevisionControl_3aEtapa.ipynb' target='_blank'>Lib13_GIT03_RevisionControl_3aEtapa.ipynb</a><br>\n",
        "&nbsp;&nbsp;<a href='./Lib02_Esenciales_IPython_Notebook.ipynb' target='_blank'>Lib02_Esenciales_IPython_Notebook.ipynb</a><br>\n",
        "&nbsp;&nbsp;<a href='./Untitled0.ipynb' target='_blank'>Untitled0.ipynb</a><br>\n",
        "&nbsp;&nbsp;<a href='./Lib06_Esenciales_IPython_Notebook.ipynb' target='_blank'>Lib06_Esenciales_IPython_Notebook.ipynb</a><br>\n",
        "./.ipynb_checkpoints/<br>\n",
        "&nbsp;&nbsp;<a href='./.ipynb_checkpoints/Lib00_Esenciales_IPython_Notebook-checkpoint.ipynb' target='_blank'>Lib00_Esenciales_IPython_Notebook-checkpoint.ipynb</a><br>\n",
        "&nbsp;&nbsp;<a href='./.ipynb_checkpoints/Untitled4-checkpoint.ipynb' target='_blank'>Untitled4-checkpoint.ipynb</a><br>\n",
        "&nbsp;&nbsp;<a href='./.ipynb_checkpoints/Lib01_Esenciales_IPython_Notebook-checkpoint.ipynb' target='_blank'>Lib01_Esenciales_IPython_Notebook-checkpoint.ipynb</a><br>\n",
        "&nbsp;&nbsp;<a href='./.ipynb_checkpoints/Lib04_Sanchez_Domingo-checkpoint.ipynb' target='_blank'>Lib04_Sanchez_Domingo-checkpoint.ipynb</a><br>\n",
        "&nbsp;&nbsp;<a href='./.ipynb_checkpoints/Lib03_Esenciales_IPython_Notebook-checkpoint.ipynb' target='_blank'>Lib03_Esenciales_IPython_Notebook-checkpoint.ipynb</a><br>\n",
        "&nbsp;&nbsp;<a href='./.ipynb_checkpoints/Untitled3-checkpoint.ipynb' target='_blank'>Untitled3-checkpoint.ipynb</a><br>\n",
        "&nbsp;&nbsp;<a href='./.ipynb_checkpoints/Lib05_Sanchez_Domingo-checkpoint.ipynb' target='_blank'>Lib05_Sanchez_Domingo-checkpoint.ipynb</a><br>\n",
        "&nbsp;&nbsp;<a href='./.ipynb_checkpoints/Untitled2-checkpoint.ipynb' target='_blank'>Untitled2-checkpoint.ipynb</a><br>\n",
        "&nbsp;&nbsp;<a href='./.ipynb_checkpoints/Lib03_Sanchez_Domingo_IPython_Notebook-checkpoint.ipynb' target='_blank'>Lib03_Sanchez_Domingo_IPython_Notebook-checkpoint.ipynb</a><br>\n",
        "&nbsp;&nbsp;<a href='./.ipynb_checkpoints/Lib02_Sanchez_Domingo_IPython_Notebook-checkpoint.ipynb' target='_blank'>Lib02_Sanchez_Domingo_IPython_Notebook-checkpoint.ipynb</a><br>"
       ],
       "metadata": {},
       "output_type": "pyout",
       "prompt_number": 3,
       "text": [
        "./\n",
        "  Lib04_Sanchez_Domingo.ipynb\n",
        "  Untitled4.ipynb\n",
        "  Lib05_Esenciales_IPython_Notebook.ipynb\n",
        "  Lib03_Sanchez_Domingo_IPython_Notebook.ipynb\n",
        "  Lib00_Esenciales_IPython_Notebook.ipynb\n",
        "  Lib08_Esenciales_IPython_Notebook.ipynb\n",
        "  Lib02_Sanchez_Domingo_IPython_Notebook.ipynb\n",
        "  Untitled3.ipynb\n",
        "  Lib03_Esenciales_IPython_Notebook.ipynb\n",
        "  Lib11_GIT01_RevisionControl_1aEtapa.ipynb\n",
        "  Lib12_GIT02_RevisionControl_2aEtapa.ipynb\n",
        "  Lib14_GIT04_RevisionControl_4aEtapa.ipynb\n",
        "  Untitled1.ipynb\n",
        "  Lib10_Esenciales_IPython_Notebook.ipynb\n",
        "  Lib09_Esenciales_IPython_Notebook.ipynb\n",
        "  Lib05_Sanchez_Domingo.ipynb\n",
        "  Untitled2.ipynb\n",
        "  Lib15_GIT05_RevisionControl_Aplicacion.ipynb\n",
        "  Lib07_Esenciales_IPython_Notebook.ipynb\n",
        "  Lib04_Esenciales_IPython_Notebook.ipynb\n",
        "  Lib01_Esenciales_IPython_Notebook.ipynb\n",
        "  Lib13_GIT03_RevisionControl_3aEtapa.ipynb\n",
        "  Lib02_Esenciales_IPython_Notebook.ipynb\n",
        "  Untitled0.ipynb\n",
        "  Lib06_Esenciales_IPython_Notebook.ipynb\n",
        "./.ipynb_checkpoints/\n",
        "  Lib00_Esenciales_IPython_Notebook-checkpoint.ipynb\n",
        "  Untitled4-checkpoint.ipynb\n",
        "  Lib01_Esenciales_IPython_Notebook-checkpoint.ipynb\n",
        "  Lib04_Sanchez_Domingo-checkpoint.ipynb\n",
        "  Lib03_Esenciales_IPython_Notebook-checkpoint.ipynb\n",
        "  Untitled3-checkpoint.ipynb\n",
        "  Lib05_Sanchez_Domingo-checkpoint.ipynb\n",
        "  Untitled2-checkpoint.ipynb\n",
        "  Lib03_Sanchez_Domingo_IPython_Notebook-checkpoint.ipynb\n",
        "  Lib02_Sanchez_Domingo_IPython_Notebook-checkpoint.ipynb"
       ]
      }
     ],
     "prompt_number": 3
    },
    {
     "cell_type": "code",
     "collapsed": false,
     "input": [
      "FileLinks('./.ipynb_checkpoints/')"
     ],
     "language": "python",
     "metadata": {},
     "outputs": [
      {
       "html": [
        "./.ipynb_checkpoints/<br>\n",
        "&nbsp;&nbsp;<a href='./.ipynb_checkpoints/Lib00_Esenciales_IPython_Notebook-checkpoint.ipynb' target='_blank'>Lib00_Esenciales_IPython_Notebook-checkpoint.ipynb</a><br>\n",
        "&nbsp;&nbsp;<a href='./.ipynb_checkpoints/Untitled4-checkpoint.ipynb' target='_blank'>Untitled4-checkpoint.ipynb</a><br>\n",
        "&nbsp;&nbsp;<a href='./.ipynb_checkpoints/Lib01_Esenciales_IPython_Notebook-checkpoint.ipynb' target='_blank'>Lib01_Esenciales_IPython_Notebook-checkpoint.ipynb</a><br>\n",
        "&nbsp;&nbsp;<a href='./.ipynb_checkpoints/Lib04_Sanchez_Domingo-checkpoint.ipynb' target='_blank'>Lib04_Sanchez_Domingo-checkpoint.ipynb</a><br>\n",
        "&nbsp;&nbsp;<a href='./.ipynb_checkpoints/Lib03_Esenciales_IPython_Notebook-checkpoint.ipynb' target='_blank'>Lib03_Esenciales_IPython_Notebook-checkpoint.ipynb</a><br>\n",
        "&nbsp;&nbsp;<a href='./.ipynb_checkpoints/Untitled3-checkpoint.ipynb' target='_blank'>Untitled3-checkpoint.ipynb</a><br>\n",
        "&nbsp;&nbsp;<a href='./.ipynb_checkpoints/Lib05_Sanchez_Domingo-checkpoint.ipynb' target='_blank'>Lib05_Sanchez_Domingo-checkpoint.ipynb</a><br>\n",
        "&nbsp;&nbsp;<a href='./.ipynb_checkpoints/Untitled2-checkpoint.ipynb' target='_blank'>Untitled2-checkpoint.ipynb</a><br>\n",
        "&nbsp;&nbsp;<a href='./.ipynb_checkpoints/Lib03_Sanchez_Domingo_IPython_Notebook-checkpoint.ipynb' target='_blank'>Lib03_Sanchez_Domingo_IPython_Notebook-checkpoint.ipynb</a><br>\n",
        "&nbsp;&nbsp;<a href='./.ipynb_checkpoints/Lib02_Sanchez_Domingo_IPython_Notebook-checkpoint.ipynb' target='_blank'>Lib02_Sanchez_Domingo_IPython_Notebook-checkpoint.ipynb</a><br>"
       ],
       "metadata": {},
       "output_type": "pyout",
       "prompt_number": 4,
       "text": [
        "./.ipynb_checkpoints/\n",
        "  Lib00_Esenciales_IPython_Notebook-checkpoint.ipynb\n",
        "  Untitled4-checkpoint.ipynb\n",
        "  Lib01_Esenciales_IPython_Notebook-checkpoint.ipynb\n",
        "  Lib04_Sanchez_Domingo-checkpoint.ipynb\n",
        "  Lib03_Esenciales_IPython_Notebook-checkpoint.ipynb\n",
        "  Untitled3-checkpoint.ipynb\n",
        "  Lib05_Sanchez_Domingo-checkpoint.ipynb\n",
        "  Untitled2-checkpoint.ipynb\n",
        "  Lib03_Sanchez_Domingo_IPython_Notebook-checkpoint.ipynb\n",
        "  Lib02_Sanchez_Domingo_IPython_Notebook-checkpoint.ipynb"
       ]
      }
     ],
     "prompt_number": 4
    },
    {
     "cell_type": "code",
     "collapsed": false,
     "input": [
      "%load http://pastebin.com/raw.php?i=mGiV1FwY"
     ],
     "language": "python",
     "metadata": {},
     "outputs": [
      {
       "ename": "IOError",
       "evalue": "[Errno socket error] [Errno -2] Name or service not known",
       "output_type": "pyerr",
       "traceback": [
        "\u001b[1;31m---------------------------------------------------------------------------\u001b[0m\n\u001b[1;31mIOError\u001b[0m                                   Traceback (most recent call last)",
        "\u001b[1;32m<ipython-input-5-3daea86f23a8>\u001b[0m in \u001b[0;36m<module>\u001b[1;34m()\u001b[0m\n\u001b[1;32m----> 1\u001b[1;33m \u001b[0mget_ipython\u001b[0m\u001b[1;33m(\u001b[0m\u001b[1;33m)\u001b[0m\u001b[1;33m.\u001b[0m\u001b[0mmagic\u001b[0m\u001b[1;33m(\u001b[0m\u001b[1;34mu'load http://pastebin.com/raw.php?i=mGiV1FwY'\u001b[0m\u001b[1;33m)\u001b[0m\u001b[1;33m\u001b[0m\u001b[0m\n\u001b[0m",
        "\u001b[1;32m/home/manuel/anaconda/lib/python2.7/site-packages/IPython/core/interactiveshell.pyc\u001b[0m in \u001b[0;36mmagic\u001b[1;34m(self, arg_s)\u001b[0m\n\u001b[0;32m   2203\u001b[0m         \u001b[0mmagic_name\u001b[0m\u001b[1;33m,\u001b[0m \u001b[0m_\u001b[0m\u001b[1;33m,\u001b[0m \u001b[0mmagic_arg_s\u001b[0m \u001b[1;33m=\u001b[0m \u001b[0marg_s\u001b[0m\u001b[1;33m.\u001b[0m\u001b[0mpartition\u001b[0m\u001b[1;33m(\u001b[0m\u001b[1;34m' '\u001b[0m\u001b[1;33m)\u001b[0m\u001b[1;33m\u001b[0m\u001b[0m\n\u001b[0;32m   2204\u001b[0m         \u001b[0mmagic_name\u001b[0m \u001b[1;33m=\u001b[0m \u001b[0mmagic_name\u001b[0m\u001b[1;33m.\u001b[0m\u001b[0mlstrip\u001b[0m\u001b[1;33m(\u001b[0m\u001b[0mprefilter\u001b[0m\u001b[1;33m.\u001b[0m\u001b[0mESC_MAGIC\u001b[0m\u001b[1;33m)\u001b[0m\u001b[1;33m\u001b[0m\u001b[0m\n\u001b[1;32m-> 2205\u001b[1;33m         \u001b[1;32mreturn\u001b[0m \u001b[0mself\u001b[0m\u001b[1;33m.\u001b[0m\u001b[0mrun_line_magic\u001b[0m\u001b[1;33m(\u001b[0m\u001b[0mmagic_name\u001b[0m\u001b[1;33m,\u001b[0m \u001b[0mmagic_arg_s\u001b[0m\u001b[1;33m)\u001b[0m\u001b[1;33m\u001b[0m\u001b[0m\n\u001b[0m\u001b[0;32m   2206\u001b[0m \u001b[1;33m\u001b[0m\u001b[0m\n\u001b[0;32m   2207\u001b[0m     \u001b[1;31m#-------------------------------------------------------------------------\u001b[0m\u001b[1;33m\u001b[0m\u001b[1;33m\u001b[0m\u001b[0m\n",
        "\u001b[1;32m/home/manuel/anaconda/lib/python2.7/site-packages/IPython/core/interactiveshell.pyc\u001b[0m in \u001b[0;36mrun_line_magic\u001b[1;34m(self, magic_name, line)\u001b[0m\n\u001b[0;32m   2124\u001b[0m                 \u001b[0mkwargs\u001b[0m\u001b[1;33m[\u001b[0m\u001b[1;34m'local_ns'\u001b[0m\u001b[1;33m]\u001b[0m \u001b[1;33m=\u001b[0m \u001b[0msys\u001b[0m\u001b[1;33m.\u001b[0m\u001b[0m_getframe\u001b[0m\u001b[1;33m(\u001b[0m\u001b[0mstack_depth\u001b[0m\u001b[1;33m)\u001b[0m\u001b[1;33m.\u001b[0m\u001b[0mf_locals\u001b[0m\u001b[1;33m\u001b[0m\u001b[0m\n\u001b[0;32m   2125\u001b[0m             \u001b[1;32mwith\u001b[0m \u001b[0mself\u001b[0m\u001b[1;33m.\u001b[0m\u001b[0mbuiltin_trap\u001b[0m\u001b[1;33m:\u001b[0m\u001b[1;33m\u001b[0m\u001b[0m\n\u001b[1;32m-> 2126\u001b[1;33m                 \u001b[0mresult\u001b[0m \u001b[1;33m=\u001b[0m \u001b[0mfn\u001b[0m\u001b[1;33m(\u001b[0m\u001b[1;33m*\u001b[0m\u001b[0margs\u001b[0m\u001b[1;33m,\u001b[0m\u001b[1;33m**\u001b[0m\u001b[0mkwargs\u001b[0m\u001b[1;33m)\u001b[0m\u001b[1;33m\u001b[0m\u001b[0m\n\u001b[0m\u001b[0;32m   2127\u001b[0m             \u001b[1;32mreturn\u001b[0m \u001b[0mresult\u001b[0m\u001b[1;33m\u001b[0m\u001b[0m\n\u001b[0;32m   2128\u001b[0m \u001b[1;33m\u001b[0m\u001b[0m\n",
        "\u001b[1;32m/home/manuel/anaconda/lib/python2.7/site-packages/IPython/core/magics/code.pyc\u001b[0m in \u001b[0;36mload\u001b[1;34m(self, arg_s)\u001b[0m\n",
        "\u001b[1;32m/home/manuel/anaconda/lib/python2.7/site-packages/IPython/core/magic.pyc\u001b[0m in \u001b[0;36m<lambda>\u001b[1;34m(f, *a, **k)\u001b[0m\n\u001b[0;32m    191\u001b[0m     \u001b[1;31m# but it's overkill for just that one bit of state.\u001b[0m\u001b[1;33m\u001b[0m\u001b[1;33m\u001b[0m\u001b[0m\n\u001b[0;32m    192\u001b[0m     \u001b[1;32mdef\u001b[0m \u001b[0mmagic_deco\u001b[0m\u001b[1;33m(\u001b[0m\u001b[0marg\u001b[0m\u001b[1;33m)\u001b[0m\u001b[1;33m:\u001b[0m\u001b[1;33m\u001b[0m\u001b[0m\n\u001b[1;32m--> 193\u001b[1;33m         \u001b[0mcall\u001b[0m \u001b[1;33m=\u001b[0m \u001b[1;32mlambda\u001b[0m \u001b[0mf\u001b[0m\u001b[1;33m,\u001b[0m \u001b[1;33m*\u001b[0m\u001b[0ma\u001b[0m\u001b[1;33m,\u001b[0m \u001b[1;33m**\u001b[0m\u001b[0mk\u001b[0m\u001b[1;33m:\u001b[0m \u001b[0mf\u001b[0m\u001b[1;33m(\u001b[0m\u001b[1;33m*\u001b[0m\u001b[0ma\u001b[0m\u001b[1;33m,\u001b[0m \u001b[1;33m**\u001b[0m\u001b[0mk\u001b[0m\u001b[1;33m)\u001b[0m\u001b[1;33m\u001b[0m\u001b[0m\n\u001b[0m\u001b[0;32m    194\u001b[0m \u001b[1;33m\u001b[0m\u001b[0m\n\u001b[0;32m    195\u001b[0m         \u001b[1;32mif\u001b[0m \u001b[0mcallable\u001b[0m\u001b[1;33m(\u001b[0m\u001b[0marg\u001b[0m\u001b[1;33m)\u001b[0m\u001b[1;33m:\u001b[0m\u001b[1;33m\u001b[0m\u001b[0m\n",
        "\u001b[1;32m/home/manuel/anaconda/lib/python2.7/site-packages/IPython/core/magics/code.pyc\u001b[0m in \u001b[0;36mload\u001b[1;34m(self, arg_s)\u001b[0m\n\u001b[0;32m    305\u001b[0m                              'or macro.')\n\u001b[0;32m    306\u001b[0m \u001b[1;33m\u001b[0m\u001b[0m\n\u001b[1;32m--> 307\u001b[1;33m         \u001b[0mcontents\u001b[0m \u001b[1;33m=\u001b[0m \u001b[0mself\u001b[0m\u001b[1;33m.\u001b[0m\u001b[0mshell\u001b[0m\u001b[1;33m.\u001b[0m\u001b[0mfind_user_code\u001b[0m\u001b[1;33m(\u001b[0m\u001b[0margs\u001b[0m\u001b[1;33m)\u001b[0m\u001b[1;33m\u001b[0m\u001b[0m\n\u001b[0m\u001b[0;32m    308\u001b[0m \u001b[1;33m\u001b[0m\u001b[0m\n\u001b[0;32m    309\u001b[0m         \u001b[1;32mif\u001b[0m \u001b[1;34m's'\u001b[0m \u001b[1;32min\u001b[0m \u001b[0mopts\u001b[0m\u001b[1;33m:\u001b[0m\u001b[1;33m\u001b[0m\u001b[0m\n",
        "\u001b[1;32m/home/manuel/anaconda/lib/python2.7/site-packages/IPython/core/interactiveshell.pyc\u001b[0m in \u001b[0;36mfind_user_code\u001b[1;34m(self, target, raw, py_only, skip_encoding_cookie)\u001b[0m\n\u001b[0;32m   3128\u001b[0m         \u001b[1;32mtry\u001b[0m\u001b[1;33m:\u001b[0m\u001b[1;33m\u001b[0m\u001b[0m\n\u001b[0;32m   3129\u001b[0m             \u001b[1;32mif\u001b[0m \u001b[0mutarget\u001b[0m\u001b[1;33m.\u001b[0m\u001b[0mstartswith\u001b[0m\u001b[1;33m(\u001b[0m\u001b[1;33m(\u001b[0m\u001b[1;34m'http://'\u001b[0m\u001b[1;33m,\u001b[0m \u001b[1;34m'https://'\u001b[0m\u001b[1;33m)\u001b[0m\u001b[1;33m)\u001b[0m\u001b[1;33m:\u001b[0m\u001b[1;33m\u001b[0m\u001b[0m\n\u001b[1;32m-> 3130\u001b[1;33m                 \u001b[1;32mreturn\u001b[0m \u001b[0mopenpy\u001b[0m\u001b[1;33m.\u001b[0m\u001b[0mread_py_url\u001b[0m\u001b[1;33m(\u001b[0m\u001b[0mutarget\u001b[0m\u001b[1;33m,\u001b[0m \u001b[0mskip_encoding_cookie\u001b[0m\u001b[1;33m=\u001b[0m\u001b[0mskip_encoding_cookie\u001b[0m\u001b[1;33m)\u001b[0m\u001b[1;33m\u001b[0m\u001b[0m\n\u001b[0m\u001b[0;32m   3131\u001b[0m         \u001b[1;32mexcept\u001b[0m \u001b[0mUnicodeDecodeError\u001b[0m\u001b[1;33m:\u001b[0m\u001b[1;33m\u001b[0m\u001b[0m\n\u001b[0;32m   3132\u001b[0m             \u001b[1;32mif\u001b[0m \u001b[1;32mnot\u001b[0m \u001b[0mpy_only\u001b[0m \u001b[1;33m:\u001b[0m\u001b[1;33m\u001b[0m\u001b[0m\n",
        "\u001b[1;32m/home/manuel/anaconda/lib/python2.7/site-packages/IPython/utils/openpy.pyc\u001b[0m in \u001b[0;36mread_py_url\u001b[1;34m(url, errors, skip_encoding_cookie)\u001b[0m\n\u001b[0;32m    213\u001b[0m     \u001b[1;32mexcept\u001b[0m \u001b[0mImportError\u001b[0m\u001b[1;33m:\u001b[0m\u001b[1;33m\u001b[0m\u001b[0m\n\u001b[0;32m    214\u001b[0m         \u001b[1;32mfrom\u001b[0m \u001b[0murllib\u001b[0m \u001b[1;32mimport\u001b[0m \u001b[0murlopen\u001b[0m\u001b[1;33m\u001b[0m\u001b[0m\n\u001b[1;32m--> 215\u001b[1;33m     \u001b[0mresponse\u001b[0m \u001b[1;33m=\u001b[0m \u001b[0murlopen\u001b[0m\u001b[1;33m(\u001b[0m\u001b[0murl\u001b[0m\u001b[1;33m)\u001b[0m\u001b[1;33m\u001b[0m\u001b[0m\n\u001b[0m\u001b[0;32m    216\u001b[0m     \u001b[0mbuffer\u001b[0m \u001b[1;33m=\u001b[0m \u001b[0mio\u001b[0m\u001b[1;33m.\u001b[0m\u001b[0mBytesIO\u001b[0m\u001b[1;33m(\u001b[0m\u001b[0mresponse\u001b[0m\u001b[1;33m.\u001b[0m\u001b[0mread\u001b[0m\u001b[1;33m(\u001b[0m\u001b[1;33m)\u001b[0m\u001b[1;33m)\u001b[0m\u001b[1;33m\u001b[0m\u001b[0m\n\u001b[0;32m    217\u001b[0m     \u001b[1;32mreturn\u001b[0m \u001b[0msource_to_unicode\u001b[0m\u001b[1;33m(\u001b[0m\u001b[0mbuffer\u001b[0m\u001b[1;33m,\u001b[0m \u001b[0merrors\u001b[0m\u001b[1;33m,\u001b[0m \u001b[0mskip_encoding_cookie\u001b[0m\u001b[1;33m)\u001b[0m\u001b[1;33m\u001b[0m\u001b[0m\n",
        "\u001b[1;32m/home/manuel/anaconda/lib/python2.7/urllib.pyc\u001b[0m in \u001b[0;36murlopen\u001b[1;34m(url, data, proxies)\u001b[0m\n\u001b[0;32m     85\u001b[0m         \u001b[0mopener\u001b[0m \u001b[1;33m=\u001b[0m \u001b[0m_urlopener\u001b[0m\u001b[1;33m\u001b[0m\u001b[0m\n\u001b[0;32m     86\u001b[0m     \u001b[1;32mif\u001b[0m \u001b[0mdata\u001b[0m \u001b[1;32mis\u001b[0m \u001b[0mNone\u001b[0m\u001b[1;33m:\u001b[0m\u001b[1;33m\u001b[0m\u001b[0m\n\u001b[1;32m---> 87\u001b[1;33m         \u001b[1;32mreturn\u001b[0m \u001b[0mopener\u001b[0m\u001b[1;33m.\u001b[0m\u001b[0mopen\u001b[0m\u001b[1;33m(\u001b[0m\u001b[0murl\u001b[0m\u001b[1;33m)\u001b[0m\u001b[1;33m\u001b[0m\u001b[0m\n\u001b[0m\u001b[0;32m     88\u001b[0m     \u001b[1;32melse\u001b[0m\u001b[1;33m:\u001b[0m\u001b[1;33m\u001b[0m\u001b[0m\n\u001b[0;32m     89\u001b[0m         \u001b[1;32mreturn\u001b[0m \u001b[0mopener\u001b[0m\u001b[1;33m.\u001b[0m\u001b[0mopen\u001b[0m\u001b[1;33m(\u001b[0m\u001b[0murl\u001b[0m\u001b[1;33m,\u001b[0m \u001b[0mdata\u001b[0m\u001b[1;33m)\u001b[0m\u001b[1;33m\u001b[0m\u001b[0m\n",
        "\u001b[1;32m/home/manuel/anaconda/lib/python2.7/urllib.pyc\u001b[0m in \u001b[0;36mopen\u001b[1;34m(self, fullurl, data)\u001b[0m\n\u001b[0;32m    206\u001b[0m         \u001b[1;32mtry\u001b[0m\u001b[1;33m:\u001b[0m\u001b[1;33m\u001b[0m\u001b[0m\n\u001b[0;32m    207\u001b[0m             \u001b[1;32mif\u001b[0m \u001b[0mdata\u001b[0m \u001b[1;32mis\u001b[0m \u001b[0mNone\u001b[0m\u001b[1;33m:\u001b[0m\u001b[1;33m\u001b[0m\u001b[0m\n\u001b[1;32m--> 208\u001b[1;33m                 \u001b[1;32mreturn\u001b[0m \u001b[0mgetattr\u001b[0m\u001b[1;33m(\u001b[0m\u001b[0mself\u001b[0m\u001b[1;33m,\u001b[0m \u001b[0mname\u001b[0m\u001b[1;33m)\u001b[0m\u001b[1;33m(\u001b[0m\u001b[0murl\u001b[0m\u001b[1;33m)\u001b[0m\u001b[1;33m\u001b[0m\u001b[0m\n\u001b[0m\u001b[0;32m    209\u001b[0m             \u001b[1;32melse\u001b[0m\u001b[1;33m:\u001b[0m\u001b[1;33m\u001b[0m\u001b[0m\n\u001b[0;32m    210\u001b[0m                 \u001b[1;32mreturn\u001b[0m \u001b[0mgetattr\u001b[0m\u001b[1;33m(\u001b[0m\u001b[0mself\u001b[0m\u001b[1;33m,\u001b[0m \u001b[0mname\u001b[0m\u001b[1;33m)\u001b[0m\u001b[1;33m(\u001b[0m\u001b[0murl\u001b[0m\u001b[1;33m,\u001b[0m \u001b[0mdata\u001b[0m\u001b[1;33m)\u001b[0m\u001b[1;33m\u001b[0m\u001b[0m\n",
        "\u001b[1;32m/home/manuel/anaconda/lib/python2.7/urllib.pyc\u001b[0m in \u001b[0;36mopen_http\u001b[1;34m(self, url, data)\u001b[0m\n\u001b[0;32m    343\u001b[0m         \u001b[1;32mif\u001b[0m \u001b[0mrealhost\u001b[0m\u001b[1;33m:\u001b[0m \u001b[0mh\u001b[0m\u001b[1;33m.\u001b[0m\u001b[0mputheader\u001b[0m\u001b[1;33m(\u001b[0m\u001b[1;34m'Host'\u001b[0m\u001b[1;33m,\u001b[0m \u001b[0mrealhost\u001b[0m\u001b[1;33m)\u001b[0m\u001b[1;33m\u001b[0m\u001b[0m\n\u001b[0;32m    344\u001b[0m         \u001b[1;32mfor\u001b[0m \u001b[0margs\u001b[0m \u001b[1;32min\u001b[0m \u001b[0mself\u001b[0m\u001b[1;33m.\u001b[0m\u001b[0maddheaders\u001b[0m\u001b[1;33m:\u001b[0m \u001b[0mh\u001b[0m\u001b[1;33m.\u001b[0m\u001b[0mputheader\u001b[0m\u001b[1;33m(\u001b[0m\u001b[1;33m*\u001b[0m\u001b[0margs\u001b[0m\u001b[1;33m)\u001b[0m\u001b[1;33m\u001b[0m\u001b[0m\n\u001b[1;32m--> 345\u001b[1;33m         \u001b[0mh\u001b[0m\u001b[1;33m.\u001b[0m\u001b[0mendheaders\u001b[0m\u001b[1;33m(\u001b[0m\u001b[0mdata\u001b[0m\u001b[1;33m)\u001b[0m\u001b[1;33m\u001b[0m\u001b[0m\n\u001b[0m\u001b[0;32m    346\u001b[0m         \u001b[0merrcode\u001b[0m\u001b[1;33m,\u001b[0m \u001b[0merrmsg\u001b[0m\u001b[1;33m,\u001b[0m \u001b[0mheaders\u001b[0m \u001b[1;33m=\u001b[0m \u001b[0mh\u001b[0m\u001b[1;33m.\u001b[0m\u001b[0mgetreply\u001b[0m\u001b[1;33m(\u001b[0m\u001b[1;33m)\u001b[0m\u001b[1;33m\u001b[0m\u001b[0m\n\u001b[0;32m    347\u001b[0m         \u001b[0mfp\u001b[0m \u001b[1;33m=\u001b[0m \u001b[0mh\u001b[0m\u001b[1;33m.\u001b[0m\u001b[0mgetfile\u001b[0m\u001b[1;33m(\u001b[0m\u001b[1;33m)\u001b[0m\u001b[1;33m\u001b[0m\u001b[0m\n",
        "\u001b[1;32m/home/manuel/anaconda/lib/python2.7/httplib.pyc\u001b[0m in \u001b[0;36mendheaders\u001b[1;34m(self, message_body)\u001b[0m\n\u001b[0;32m    989\u001b[0m         \u001b[1;32melse\u001b[0m\u001b[1;33m:\u001b[0m\u001b[1;33m\u001b[0m\u001b[0m\n\u001b[0;32m    990\u001b[0m             \u001b[1;32mraise\u001b[0m \u001b[0mCannotSendHeader\u001b[0m\u001b[1;33m(\u001b[0m\u001b[1;33m)\u001b[0m\u001b[1;33m\u001b[0m\u001b[0m\n\u001b[1;32m--> 991\u001b[1;33m         \u001b[0mself\u001b[0m\u001b[1;33m.\u001b[0m\u001b[0m_send_output\u001b[0m\u001b[1;33m(\u001b[0m\u001b[0mmessage_body\u001b[0m\u001b[1;33m)\u001b[0m\u001b[1;33m\u001b[0m\u001b[0m\n\u001b[0m\u001b[0;32m    992\u001b[0m \u001b[1;33m\u001b[0m\u001b[0m\n\u001b[0;32m    993\u001b[0m     \u001b[1;32mdef\u001b[0m \u001b[0mrequest\u001b[0m\u001b[1;33m(\u001b[0m\u001b[0mself\u001b[0m\u001b[1;33m,\u001b[0m \u001b[0mmethod\u001b[0m\u001b[1;33m,\u001b[0m \u001b[0murl\u001b[0m\u001b[1;33m,\u001b[0m \u001b[0mbody\u001b[0m\u001b[1;33m=\u001b[0m\u001b[0mNone\u001b[0m\u001b[1;33m,\u001b[0m \u001b[0mheaders\u001b[0m\u001b[1;33m=\u001b[0m\u001b[1;33m{\u001b[0m\u001b[1;33m}\u001b[0m\u001b[1;33m)\u001b[0m\u001b[1;33m:\u001b[0m\u001b[1;33m\u001b[0m\u001b[0m\n",
        "\u001b[1;32m/home/manuel/anaconda/lib/python2.7/httplib.pyc\u001b[0m in \u001b[0;36m_send_output\u001b[1;34m(self, message_body)\u001b[0m\n\u001b[0;32m    842\u001b[0m             \u001b[0mmsg\u001b[0m \u001b[1;33m+=\u001b[0m \u001b[0mmessage_body\u001b[0m\u001b[1;33m\u001b[0m\u001b[0m\n\u001b[0;32m    843\u001b[0m             \u001b[0mmessage_body\u001b[0m \u001b[1;33m=\u001b[0m \u001b[0mNone\u001b[0m\u001b[1;33m\u001b[0m\u001b[0m\n\u001b[1;32m--> 844\u001b[1;33m         \u001b[0mself\u001b[0m\u001b[1;33m.\u001b[0m\u001b[0msend\u001b[0m\u001b[1;33m(\u001b[0m\u001b[0mmsg\u001b[0m\u001b[1;33m)\u001b[0m\u001b[1;33m\u001b[0m\u001b[0m\n\u001b[0m\u001b[0;32m    845\u001b[0m         \u001b[1;32mif\u001b[0m \u001b[0mmessage_body\u001b[0m \u001b[1;32mis\u001b[0m \u001b[1;32mnot\u001b[0m \u001b[0mNone\u001b[0m\u001b[1;33m:\u001b[0m\u001b[1;33m\u001b[0m\u001b[0m\n\u001b[0;32m    846\u001b[0m             \u001b[1;31m#message_body was not a string (i.e. it is a file) and\u001b[0m\u001b[1;33m\u001b[0m\u001b[1;33m\u001b[0m\u001b[0m\n",
        "\u001b[1;32m/home/manuel/anaconda/lib/python2.7/httplib.pyc\u001b[0m in \u001b[0;36msend\u001b[1;34m(self, data)\u001b[0m\n\u001b[0;32m    804\u001b[0m         \u001b[1;32mif\u001b[0m \u001b[0mself\u001b[0m\u001b[1;33m.\u001b[0m\u001b[0msock\u001b[0m \u001b[1;32mis\u001b[0m \u001b[0mNone\u001b[0m\u001b[1;33m:\u001b[0m\u001b[1;33m\u001b[0m\u001b[0m\n\u001b[0;32m    805\u001b[0m             \u001b[1;32mif\u001b[0m \u001b[0mself\u001b[0m\u001b[1;33m.\u001b[0m\u001b[0mauto_open\u001b[0m\u001b[1;33m:\u001b[0m\u001b[1;33m\u001b[0m\u001b[0m\n\u001b[1;32m--> 806\u001b[1;33m                 \u001b[0mself\u001b[0m\u001b[1;33m.\u001b[0m\u001b[0mconnect\u001b[0m\u001b[1;33m(\u001b[0m\u001b[1;33m)\u001b[0m\u001b[1;33m\u001b[0m\u001b[0m\n\u001b[0m\u001b[0;32m    807\u001b[0m             \u001b[1;32melse\u001b[0m\u001b[1;33m:\u001b[0m\u001b[1;33m\u001b[0m\u001b[0m\n\u001b[0;32m    808\u001b[0m                 \u001b[1;32mraise\u001b[0m \u001b[0mNotConnected\u001b[0m\u001b[1;33m(\u001b[0m\u001b[1;33m)\u001b[0m\u001b[1;33m\u001b[0m\u001b[0m\n",
        "\u001b[1;32m/home/manuel/anaconda/lib/python2.7/httplib.pyc\u001b[0m in \u001b[0;36mconnect\u001b[1;34m(self)\u001b[0m\n\u001b[0;32m    785\u001b[0m         \u001b[1;34m\"\"\"Connect to the host and port specified in __init__.\"\"\"\u001b[0m\u001b[1;33m\u001b[0m\u001b[0m\n\u001b[0;32m    786\u001b[0m         self.sock = self._create_connection((self.host,self.port),\n\u001b[1;32m--> 787\u001b[1;33m                                            self.timeout, self.source_address)\n\u001b[0m\u001b[0;32m    788\u001b[0m \u001b[1;33m\u001b[0m\u001b[0m\n\u001b[0;32m    789\u001b[0m         \u001b[1;32mif\u001b[0m \u001b[0mself\u001b[0m\u001b[1;33m.\u001b[0m\u001b[0m_tunnel_host\u001b[0m\u001b[1;33m:\u001b[0m\u001b[1;33m\u001b[0m\u001b[0m\n",
        "\u001b[1;32m/home/manuel/anaconda/lib/python2.7/socket.pyc\u001b[0m in \u001b[0;36mcreate_connection\u001b[1;34m(address, timeout, source_address)\u001b[0m\n\u001b[0;32m    551\u001b[0m     \u001b[0mhost\u001b[0m\u001b[1;33m,\u001b[0m \u001b[0mport\u001b[0m \u001b[1;33m=\u001b[0m \u001b[0maddress\u001b[0m\u001b[1;33m\u001b[0m\u001b[0m\n\u001b[0;32m    552\u001b[0m     \u001b[0merr\u001b[0m \u001b[1;33m=\u001b[0m \u001b[0mNone\u001b[0m\u001b[1;33m\u001b[0m\u001b[0m\n\u001b[1;32m--> 553\u001b[1;33m     \u001b[1;32mfor\u001b[0m \u001b[0mres\u001b[0m \u001b[1;32min\u001b[0m \u001b[0mgetaddrinfo\u001b[0m\u001b[1;33m(\u001b[0m\u001b[0mhost\u001b[0m\u001b[1;33m,\u001b[0m \u001b[0mport\u001b[0m\u001b[1;33m,\u001b[0m \u001b[1;36m0\u001b[0m\u001b[1;33m,\u001b[0m \u001b[0mSOCK_STREAM\u001b[0m\u001b[1;33m)\u001b[0m\u001b[1;33m:\u001b[0m\u001b[1;33m\u001b[0m\u001b[0m\n\u001b[0m\u001b[0;32m    554\u001b[0m         \u001b[0maf\u001b[0m\u001b[1;33m,\u001b[0m \u001b[0msocktype\u001b[0m\u001b[1;33m,\u001b[0m \u001b[0mproto\u001b[0m\u001b[1;33m,\u001b[0m \u001b[0mcanonname\u001b[0m\u001b[1;33m,\u001b[0m \u001b[0msa\u001b[0m \u001b[1;33m=\u001b[0m \u001b[0mres\u001b[0m\u001b[1;33m\u001b[0m\u001b[0m\n\u001b[0;32m    555\u001b[0m         \u001b[0msock\u001b[0m \u001b[1;33m=\u001b[0m \u001b[0mNone\u001b[0m\u001b[1;33m\u001b[0m\u001b[0m\n",
        "\u001b[1;31mIOError\u001b[0m: [Errno socket error] [Errno -2] Name or service not known"
       ]
      }
     ],
     "prompt_number": 5
    },
    {
     "cell_type": "code",
     "collapsed": false,
     "input": [
      "%pastebin?"
     ],
     "language": "python",
     "metadata": {},
     "outputs": [],
     "prompt_number": 7
    },
    {
     "cell_type": "code",
     "collapsed": false,
     "input": [
      "%pastebin -d \"grafica\" 0-10"
     ],
     "language": "python",
     "metadata": {},
     "outputs": [
      {
       "ename": "URLError",
       "evalue": "<urlopen error [Errno -2] Name or service not known>",
       "output_type": "pyerr",
       "traceback": [
        "\u001b[1;31m---------------------------------------------------------------------------\u001b[0m\n\u001b[1;31mURLError\u001b[0m                                  Traceback (most recent call last)",
        "\u001b[1;32m<ipython-input-14-afc21183f739>\u001b[0m in \u001b[0;36m<module>\u001b[1;34m()\u001b[0m\n\u001b[1;32m----> 1\u001b[1;33m \u001b[0mget_ipython\u001b[0m\u001b[1;33m(\u001b[0m\u001b[1;33m)\u001b[0m\u001b[1;33m.\u001b[0m\u001b[0mmagic\u001b[0m\u001b[1;33m(\u001b[0m\u001b[1;34mu'pastebin -d \"grafica\" 0-10'\u001b[0m\u001b[1;33m)\u001b[0m\u001b[1;33m\u001b[0m\u001b[0m\n\u001b[0m",
        "\u001b[1;32m/home/manuel/anaconda/lib/python2.7/site-packages/IPython/core/interactiveshell.pyc\u001b[0m in \u001b[0;36mmagic\u001b[1;34m(self, arg_s)\u001b[0m\n\u001b[0;32m   2203\u001b[0m         \u001b[0mmagic_name\u001b[0m\u001b[1;33m,\u001b[0m \u001b[0m_\u001b[0m\u001b[1;33m,\u001b[0m \u001b[0mmagic_arg_s\u001b[0m \u001b[1;33m=\u001b[0m \u001b[0marg_s\u001b[0m\u001b[1;33m.\u001b[0m\u001b[0mpartition\u001b[0m\u001b[1;33m(\u001b[0m\u001b[1;34m' '\u001b[0m\u001b[1;33m)\u001b[0m\u001b[1;33m\u001b[0m\u001b[0m\n\u001b[0;32m   2204\u001b[0m         \u001b[0mmagic_name\u001b[0m \u001b[1;33m=\u001b[0m \u001b[0mmagic_name\u001b[0m\u001b[1;33m.\u001b[0m\u001b[0mlstrip\u001b[0m\u001b[1;33m(\u001b[0m\u001b[0mprefilter\u001b[0m\u001b[1;33m.\u001b[0m\u001b[0mESC_MAGIC\u001b[0m\u001b[1;33m)\u001b[0m\u001b[1;33m\u001b[0m\u001b[0m\n\u001b[1;32m-> 2205\u001b[1;33m         \u001b[1;32mreturn\u001b[0m \u001b[0mself\u001b[0m\u001b[1;33m.\u001b[0m\u001b[0mrun_line_magic\u001b[0m\u001b[1;33m(\u001b[0m\u001b[0mmagic_name\u001b[0m\u001b[1;33m,\u001b[0m \u001b[0mmagic_arg_s\u001b[0m\u001b[1;33m)\u001b[0m\u001b[1;33m\u001b[0m\u001b[0m\n\u001b[0m\u001b[0;32m   2206\u001b[0m \u001b[1;33m\u001b[0m\u001b[0m\n\u001b[0;32m   2207\u001b[0m     \u001b[1;31m#-------------------------------------------------------------------------\u001b[0m\u001b[1;33m\u001b[0m\u001b[1;33m\u001b[0m\u001b[0m\n",
        "\u001b[1;32m/home/manuel/anaconda/lib/python2.7/site-packages/IPython/core/interactiveshell.pyc\u001b[0m in \u001b[0;36mrun_line_magic\u001b[1;34m(self, magic_name, line)\u001b[0m\n\u001b[0;32m   2124\u001b[0m                 \u001b[0mkwargs\u001b[0m\u001b[1;33m[\u001b[0m\u001b[1;34m'local_ns'\u001b[0m\u001b[1;33m]\u001b[0m \u001b[1;33m=\u001b[0m \u001b[0msys\u001b[0m\u001b[1;33m.\u001b[0m\u001b[0m_getframe\u001b[0m\u001b[1;33m(\u001b[0m\u001b[0mstack_depth\u001b[0m\u001b[1;33m)\u001b[0m\u001b[1;33m.\u001b[0m\u001b[0mf_locals\u001b[0m\u001b[1;33m\u001b[0m\u001b[0m\n\u001b[0;32m   2125\u001b[0m             \u001b[1;32mwith\u001b[0m \u001b[0mself\u001b[0m\u001b[1;33m.\u001b[0m\u001b[0mbuiltin_trap\u001b[0m\u001b[1;33m:\u001b[0m\u001b[1;33m\u001b[0m\u001b[0m\n\u001b[1;32m-> 2126\u001b[1;33m                 \u001b[0mresult\u001b[0m \u001b[1;33m=\u001b[0m \u001b[0mfn\u001b[0m\u001b[1;33m(\u001b[0m\u001b[1;33m*\u001b[0m\u001b[0margs\u001b[0m\u001b[1;33m,\u001b[0m\u001b[1;33m**\u001b[0m\u001b[0mkwargs\u001b[0m\u001b[1;33m)\u001b[0m\u001b[1;33m\u001b[0m\u001b[0m\n\u001b[0m\u001b[0;32m   2127\u001b[0m             \u001b[1;32mreturn\u001b[0m \u001b[0mresult\u001b[0m\u001b[1;33m\u001b[0m\u001b[0m\n\u001b[0;32m   2128\u001b[0m \u001b[1;33m\u001b[0m\u001b[0m\n",
        "\u001b[1;32m/home/manuel/anaconda/lib/python2.7/site-packages/IPython/core/magics/code.pyc\u001b[0m in \u001b[0;36mpastebin\u001b[1;34m(self, parameter_s)\u001b[0m\n",
        "\u001b[1;32m/home/manuel/anaconda/lib/python2.7/site-packages/IPython/core/magic.pyc\u001b[0m in \u001b[0;36m<lambda>\u001b[1;34m(f, *a, **k)\u001b[0m\n\u001b[0;32m    191\u001b[0m     \u001b[1;31m# but it's overkill for just that one bit of state.\u001b[0m\u001b[1;33m\u001b[0m\u001b[1;33m\u001b[0m\u001b[0m\n\u001b[0;32m    192\u001b[0m     \u001b[1;32mdef\u001b[0m \u001b[0mmagic_deco\u001b[0m\u001b[1;33m(\u001b[0m\u001b[0marg\u001b[0m\u001b[1;33m)\u001b[0m\u001b[1;33m:\u001b[0m\u001b[1;33m\u001b[0m\u001b[0m\n\u001b[1;32m--> 193\u001b[1;33m         \u001b[0mcall\u001b[0m \u001b[1;33m=\u001b[0m \u001b[1;32mlambda\u001b[0m \u001b[0mf\u001b[0m\u001b[1;33m,\u001b[0m \u001b[1;33m*\u001b[0m\u001b[0ma\u001b[0m\u001b[1;33m,\u001b[0m \u001b[1;33m**\u001b[0m\u001b[0mk\u001b[0m\u001b[1;33m:\u001b[0m \u001b[0mf\u001b[0m\u001b[1;33m(\u001b[0m\u001b[1;33m*\u001b[0m\u001b[0ma\u001b[0m\u001b[1;33m,\u001b[0m \u001b[1;33m**\u001b[0m\u001b[0mk\u001b[0m\u001b[1;33m)\u001b[0m\u001b[1;33m\u001b[0m\u001b[0m\n\u001b[0m\u001b[0;32m    194\u001b[0m \u001b[1;33m\u001b[0m\u001b[0m\n\u001b[0;32m    195\u001b[0m         \u001b[1;32mif\u001b[0m \u001b[0mcallable\u001b[0m\u001b[1;33m(\u001b[0m\u001b[0marg\u001b[0m\u001b[1;33m)\u001b[0m\u001b[1;33m:\u001b[0m\u001b[1;33m\u001b[0m\u001b[0m\n",
        "\u001b[1;32m/home/manuel/anaconda/lib/python2.7/site-packages/IPython/core/magics/code.pyc\u001b[0m in \u001b[0;36mpastebin\u001b[1;34m(self, parameter_s)\u001b[0m\n\u001b[0;32m    252\u001b[0m         }).encode('utf-8')\n\u001b[0;32m    253\u001b[0m \u001b[1;33m\u001b[0m\u001b[0m\n\u001b[1;32m--> 254\u001b[1;33m         \u001b[0mresponse\u001b[0m \u001b[1;33m=\u001b[0m \u001b[0murlopen\u001b[0m\u001b[1;33m(\u001b[0m\u001b[1;34m\"https://api.github.com/gists\"\u001b[0m\u001b[1;33m,\u001b[0m \u001b[0mpost_data\u001b[0m\u001b[1;33m)\u001b[0m\u001b[1;33m\u001b[0m\u001b[0m\n\u001b[0m\u001b[0;32m    255\u001b[0m         \u001b[0mresponse_data\u001b[0m \u001b[1;33m=\u001b[0m \u001b[0mjson\u001b[0m\u001b[1;33m.\u001b[0m\u001b[0mloads\u001b[0m\u001b[1;33m(\u001b[0m\u001b[0mresponse\u001b[0m\u001b[1;33m.\u001b[0m\u001b[0mread\u001b[0m\u001b[1;33m(\u001b[0m\u001b[1;33m)\u001b[0m\u001b[1;33m.\u001b[0m\u001b[0mdecode\u001b[0m\u001b[1;33m(\u001b[0m\u001b[1;34m'utf-8'\u001b[0m\u001b[1;33m)\u001b[0m\u001b[1;33m)\u001b[0m\u001b[1;33m\u001b[0m\u001b[0m\n\u001b[0;32m    256\u001b[0m         \u001b[1;32mreturn\u001b[0m \u001b[0mresponse_data\u001b[0m\u001b[1;33m[\u001b[0m\u001b[1;34m'html_url'\u001b[0m\u001b[1;33m]\u001b[0m\u001b[1;33m\u001b[0m\u001b[0m\n",
        "\u001b[1;32m/home/manuel/anaconda/lib/python2.7/urllib2.pyc\u001b[0m in \u001b[0;36murlopen\u001b[1;34m(url, data, timeout)\u001b[0m\n\u001b[0;32m    125\u001b[0m     \u001b[1;32mif\u001b[0m \u001b[0m_opener\u001b[0m \u001b[1;32mis\u001b[0m \u001b[0mNone\u001b[0m\u001b[1;33m:\u001b[0m\u001b[1;33m\u001b[0m\u001b[0m\n\u001b[0;32m    126\u001b[0m         \u001b[0m_opener\u001b[0m \u001b[1;33m=\u001b[0m \u001b[0mbuild_opener\u001b[0m\u001b[1;33m(\u001b[0m\u001b[1;33m)\u001b[0m\u001b[1;33m\u001b[0m\u001b[0m\n\u001b[1;32m--> 127\u001b[1;33m     \u001b[1;32mreturn\u001b[0m \u001b[0m_opener\u001b[0m\u001b[1;33m.\u001b[0m\u001b[0mopen\u001b[0m\u001b[1;33m(\u001b[0m\u001b[0murl\u001b[0m\u001b[1;33m,\u001b[0m \u001b[0mdata\u001b[0m\u001b[1;33m,\u001b[0m \u001b[0mtimeout\u001b[0m\u001b[1;33m)\u001b[0m\u001b[1;33m\u001b[0m\u001b[0m\n\u001b[0m\u001b[0;32m    128\u001b[0m \u001b[1;33m\u001b[0m\u001b[0m\n\u001b[0;32m    129\u001b[0m \u001b[1;32mdef\u001b[0m \u001b[0minstall_opener\u001b[0m\u001b[1;33m(\u001b[0m\u001b[0mopener\u001b[0m\u001b[1;33m)\u001b[0m\u001b[1;33m:\u001b[0m\u001b[1;33m\u001b[0m\u001b[0m\n",
        "\u001b[1;32m/home/manuel/anaconda/lib/python2.7/urllib2.pyc\u001b[0m in \u001b[0;36mopen\u001b[1;34m(self, fullurl, data, timeout)\u001b[0m\n\u001b[0;32m    402\u001b[0m             \u001b[0mreq\u001b[0m \u001b[1;33m=\u001b[0m \u001b[0mmeth\u001b[0m\u001b[1;33m(\u001b[0m\u001b[0mreq\u001b[0m\u001b[1;33m)\u001b[0m\u001b[1;33m\u001b[0m\u001b[0m\n\u001b[0;32m    403\u001b[0m \u001b[1;33m\u001b[0m\u001b[0m\n\u001b[1;32m--> 404\u001b[1;33m         \u001b[0mresponse\u001b[0m \u001b[1;33m=\u001b[0m \u001b[0mself\u001b[0m\u001b[1;33m.\u001b[0m\u001b[0m_open\u001b[0m\u001b[1;33m(\u001b[0m\u001b[0mreq\u001b[0m\u001b[1;33m,\u001b[0m \u001b[0mdata\u001b[0m\u001b[1;33m)\u001b[0m\u001b[1;33m\u001b[0m\u001b[0m\n\u001b[0m\u001b[0;32m    405\u001b[0m \u001b[1;33m\u001b[0m\u001b[0m\n\u001b[0;32m    406\u001b[0m         \u001b[1;31m# post-process response\u001b[0m\u001b[1;33m\u001b[0m\u001b[1;33m\u001b[0m\u001b[0m\n",
        "\u001b[1;32m/home/manuel/anaconda/lib/python2.7/urllib2.pyc\u001b[0m in \u001b[0;36m_open\u001b[1;34m(self, req, data)\u001b[0m\n\u001b[0;32m    420\u001b[0m         \u001b[0mprotocol\u001b[0m \u001b[1;33m=\u001b[0m \u001b[0mreq\u001b[0m\u001b[1;33m.\u001b[0m\u001b[0mget_type\u001b[0m\u001b[1;33m(\u001b[0m\u001b[1;33m)\u001b[0m\u001b[1;33m\u001b[0m\u001b[0m\n\u001b[0;32m    421\u001b[0m         result = self._call_chain(self.handle_open, protocol, protocol +\n\u001b[1;32m--> 422\u001b[1;33m                                   '_open', req)\n\u001b[0m\u001b[0;32m    423\u001b[0m         \u001b[1;32mif\u001b[0m \u001b[0mresult\u001b[0m\u001b[1;33m:\u001b[0m\u001b[1;33m\u001b[0m\u001b[0m\n\u001b[0;32m    424\u001b[0m             \u001b[1;32mreturn\u001b[0m \u001b[0mresult\u001b[0m\u001b[1;33m\u001b[0m\u001b[0m\n",
        "\u001b[1;32m/home/manuel/anaconda/lib/python2.7/urllib2.pyc\u001b[0m in \u001b[0;36m_call_chain\u001b[1;34m(self, chain, kind, meth_name, *args)\u001b[0m\n\u001b[0;32m    380\u001b[0m             \u001b[0mfunc\u001b[0m \u001b[1;33m=\u001b[0m \u001b[0mgetattr\u001b[0m\u001b[1;33m(\u001b[0m\u001b[0mhandler\u001b[0m\u001b[1;33m,\u001b[0m \u001b[0mmeth_name\u001b[0m\u001b[1;33m)\u001b[0m\u001b[1;33m\u001b[0m\u001b[0m\n\u001b[0;32m    381\u001b[0m \u001b[1;33m\u001b[0m\u001b[0m\n\u001b[1;32m--> 382\u001b[1;33m             \u001b[0mresult\u001b[0m \u001b[1;33m=\u001b[0m \u001b[0mfunc\u001b[0m\u001b[1;33m(\u001b[0m\u001b[1;33m*\u001b[0m\u001b[0margs\u001b[0m\u001b[1;33m)\u001b[0m\u001b[1;33m\u001b[0m\u001b[0m\n\u001b[0m\u001b[0;32m    383\u001b[0m             \u001b[1;32mif\u001b[0m \u001b[0mresult\u001b[0m \u001b[1;32mis\u001b[0m \u001b[1;32mnot\u001b[0m \u001b[0mNone\u001b[0m\u001b[1;33m:\u001b[0m\u001b[1;33m\u001b[0m\u001b[0m\n\u001b[0;32m    384\u001b[0m                 \u001b[1;32mreturn\u001b[0m \u001b[0mresult\u001b[0m\u001b[1;33m\u001b[0m\u001b[0m\n",
        "\u001b[1;32m/home/manuel/anaconda/lib/python2.7/urllib2.pyc\u001b[0m in \u001b[0;36mhttps_open\u001b[1;34m(self, req)\u001b[0m\n\u001b[0;32m   1220\u001b[0m \u001b[1;33m\u001b[0m\u001b[0m\n\u001b[0;32m   1221\u001b[0m         \u001b[1;32mdef\u001b[0m \u001b[0mhttps_open\u001b[0m\u001b[1;33m(\u001b[0m\u001b[0mself\u001b[0m\u001b[1;33m,\u001b[0m \u001b[0mreq\u001b[0m\u001b[1;33m)\u001b[0m\u001b[1;33m:\u001b[0m\u001b[1;33m\u001b[0m\u001b[0m\n\u001b[1;32m-> 1222\u001b[1;33m             \u001b[1;32mreturn\u001b[0m \u001b[0mself\u001b[0m\u001b[1;33m.\u001b[0m\u001b[0mdo_open\u001b[0m\u001b[1;33m(\u001b[0m\u001b[0mhttplib\u001b[0m\u001b[1;33m.\u001b[0m\u001b[0mHTTPSConnection\u001b[0m\u001b[1;33m,\u001b[0m \u001b[0mreq\u001b[0m\u001b[1;33m)\u001b[0m\u001b[1;33m\u001b[0m\u001b[0m\n\u001b[0m\u001b[0;32m   1223\u001b[0m \u001b[1;33m\u001b[0m\u001b[0m\n\u001b[0;32m   1224\u001b[0m         \u001b[0mhttps_request\u001b[0m \u001b[1;33m=\u001b[0m \u001b[0mAbstractHTTPHandler\u001b[0m\u001b[1;33m.\u001b[0m\u001b[0mdo_request_\u001b[0m\u001b[1;33m\u001b[0m\u001b[0m\n",
        "\u001b[1;32m/home/manuel/anaconda/lib/python2.7/urllib2.pyc\u001b[0m in \u001b[0;36mdo_open\u001b[1;34m(self, http_class, req)\u001b[0m\n\u001b[0;32m   1182\u001b[0m         \u001b[1;32mexcept\u001b[0m \u001b[0msocket\u001b[0m\u001b[1;33m.\u001b[0m\u001b[0merror\u001b[0m\u001b[1;33m,\u001b[0m \u001b[0merr\u001b[0m\u001b[1;33m:\u001b[0m \u001b[1;31m# XXX what error?\u001b[0m\u001b[1;33m\u001b[0m\u001b[0m\n\u001b[0;32m   1183\u001b[0m             \u001b[0mh\u001b[0m\u001b[1;33m.\u001b[0m\u001b[0mclose\u001b[0m\u001b[1;33m(\u001b[0m\u001b[1;33m)\u001b[0m\u001b[1;33m\u001b[0m\u001b[0m\n\u001b[1;32m-> 1184\u001b[1;33m             \u001b[1;32mraise\u001b[0m \u001b[0mURLError\u001b[0m\u001b[1;33m(\u001b[0m\u001b[0merr\u001b[0m\u001b[1;33m)\u001b[0m\u001b[1;33m\u001b[0m\u001b[0m\n\u001b[0m\u001b[0;32m   1185\u001b[0m         \u001b[1;32melse\u001b[0m\u001b[1;33m:\u001b[0m\u001b[1;33m\u001b[0m\u001b[0m\n\u001b[0;32m   1186\u001b[0m             \u001b[1;32mtry\u001b[0m\u001b[1;33m:\u001b[0m\u001b[1;33m\u001b[0m\u001b[0m\n",
        "\u001b[1;31mURLError\u001b[0m: <urlopen error [Errno -2] Name or service not known>"
       ]
      }
     ],
     "prompt_number": 14
    },
    {
     "cell_type": "code",
     "collapsed": true,
     "input": [
      "%connect_info"
     ],
     "language": "python",
     "metadata": {},
     "outputs": [
      {
       "output_type": "stream",
       "stream": "stdout",
       "text": [
        "{\n",
        "  \"stdin_port\": 43519, \n",
        "  \"ip\": \"127.0.0.1\", \n",
        "  \"control_port\": 44263, \n",
        "  \"hb_port\": 45437, \n",
        "  \"signature_scheme\": \"hmac-sha256\", \n",
        "  \"key\": \"9bbc9cff-91a6-4449-8894-96d412b02b40\", \n",
        "  \"shell_port\": 33559, \n",
        "  \"transport\": \"tcp\", \n",
        "  \"iopub_port\": 35528\n",
        "}\n",
        "\n",
        "Paste the above JSON into a file, and connect with:\n",
        "    $> ipython <app> --existing <file>\n",
        "or, if you are local, you can connect with just:\n",
        "    $> ipython <app> --existing kernel-bb30b2e7-6da3-45b5-9def-8dbb05b5ea7d.json \n",
        "or even just:\n",
        "    $> ipython <app> --existing \n",
        "if this is the most recent IPython session you have started.\n"
       ]
      }
     ],
     "prompt_number": 9
    },
    {
     "cell_type": "code",
     "collapsed": false,
     "input": [
      "!touch america"
     ],
     "language": "python",
     "metadata": {},
     "outputs": [],
     "prompt_number": 22
    },
    {
     "cell_type": "code",
     "collapsed": false,
     "input": [
      "ls"
     ],
     "language": "python",
     "metadata": {},
     "outputs": [
      {
       "output_type": "stream",
       "stream": "stdout",
       "text": [
        "america\r\n",
        "Lib00_Esenciales_IPython_Notebook.ipynb\r\n",
        "Lib01_Esenciales_IPython_Notebook.ipynb\r\n",
        "Lib02_Esenciales_IPython_Notebook.ipynb\r\n",
        "Lib02_Sanchez_Domingo_IPython_Notebook.ipynb\r\n",
        "Lib03_Esenciales_IPython_Notebook.ipynb\r\n",
        "Lib03_Sanchez_Domingo_IPython_Notebook.ipynb\r\n",
        "Lib04_Esenciales_IPython_Notebook.ipynb\r\n",
        "Lib04_Sanchez_Domingo.ipynb\r\n",
        "Lib05_Esenciales_IPython_Notebook.ipynb\r\n",
        "Lib05_Sanchez_Domingo.ipynb\r\n",
        "Lib06_Esenciales_IPython_Notebook.ipynb\r\n",
        "Lib06_Sanchez_Domingo.ipynb\r\n",
        "Lib07_Esenciales_IPython_Notebook.ipynb\r\n",
        "Lib08_Esenciales_IPython_Notebook.ipynb\r\n",
        "Lib09_Esenciales_IPython_Notebook.ipynb\r\n",
        "Lib10_Esenciales_IPython_Notebook.ipynb\r\n",
        "Lib11_GIT01_RevisionControl_1aEtapa.ipynb\r\n",
        "Lib12_GIT02_RevisionControl_2aEtapa.ipynb\r\n",
        "Lib13_GIT03_RevisionControl_3aEtapa.ipynb\r\n",
        "Lib14_GIT04_RevisionControl_4aEtapa.ipynb\r\n",
        "Lib15_GIT05_RevisionControl_Aplicacion.ipynb\r\n",
        "Untitled0.ipynb\r\n",
        "Untitled1.ipynb\r\n",
        "Untitled2.ipynb\r\n",
        "Untitled3.ipynb\r\n",
        "Untitled4.ipynb\r\n"
       ]
      }
     ],
     "prompt_number": 23
    }
   ],
   "metadata": {}
  }
 ]
}