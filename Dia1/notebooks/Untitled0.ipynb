{
 "metadata": {
  "name": "",
  "signature": "sha256:0c99b33065e22c17420f972a0787770c23cb76919faf7d02db03cd0df6ab9e21"
 },
 "nbformat": 3,
 "nbformat_minor": 0,
 "worksheets": []
}