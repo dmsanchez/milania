{
 "metadata": {
  "celltoolbar": "Slideshow",
  "name": "",
  "signature": "sha256:ff6bb8b3fbda0692682c799ffcdae97d3cf5001bbd8953f0bf0dd762ed3eaa4f"
 },
 "nbformat": 3,
 "nbformat_minor": 0,
 "worksheets": [
  {
   "cells": [
    {
     "cell_type": "code",
     "collapsed": true,
     "input": [
      "%run ../talktools.py"
     ],
     "language": "python",
     "metadata": {
      "slideshow": {
       "slide_type": "skip"
      }
     },
     "outputs": [
      {
       "html": [
        "<link href='http://fonts.googleapis.com/css?family=Alegreya+Sans:100,300,400,500,700,800,900,100italic,300italic,400italic,500italic,700italic,800italic,900italic' rel='stylesheet' type='text/css'>\n",
        "<link href='http://fonts.googleapis.com/css?family=Arvo:400,700,400italic' rel='stylesheet' type='text/css'>\n",
        "<link href='http://fonts.googleapis.com/css?family=PT+Mono' rel='stylesheet' type='text/css'>\n",
        "<link href='http://fonts.googleapis.com/css?family=Shadows+Into+Light' rel='stylesheet' type='text/css'>\n",
        "<link href='http://fonts.googleapis.com/css?family=Nixie+One' rel='stylesheet' type='text/css'>\n",
        "<style>\n",
        "\n",
        "@font-face {\n",
        "    font-family: \"Computer Modern\";\n",
        "    src: url('http://mirrors.ctan.org/fonts/cm-unicode/fonts/otf/cmunss.otf');\n",
        "}\n",
        "\n",
        "#notebook_panel { /* main background */\n",
        "    background: rgb(245,245,245);\n",
        "}\n",
        "\n",
        "div.cell { /* set cell width */\n",
        "    width: 750px;\n",
        "}\n",
        "\n",
        "div #notebook { /* centre the content */\n",
        "    background: #fff; /* white background for content */\n",
        "    width: 1000px;\n",
        "    margin: auto;\n",
        "    padding-left: 0em;\n",
        "}\n",
        "\n",
        "#notebook li { /* More space between bullet points */\n",
        "margin-top:0.8em;\n",
        "}\n",
        "\n",
        "/* draw border around running cells */\n",
        "div.cell.border-box-sizing.code_cell.running { \n",
        "    border: 1px solid #111;\n",
        "}\n",
        "\n",
        "/* Put a solid color box around each cell and its output, visually linking them*/\n",
        "div.cell.code_cell {\n",
        "    background-color: rgb(256,256,256); \n",
        "    border-radius: 0px; \n",
        "    padding: 0.5em;\n",
        "    margin-left:1em;\n",
        "    margin-top: 1em;\n",
        "}\n",
        "\n",
        "div.text_cell_render{\n",
        "    font-family: 'Alegreya Sans' sans-serif;\n",
        "    line-height: 140%;\n",
        "    font-size: 125%;\n",
        "    font-weight: 400;\n",
        "    width:600px;\n",
        "    margin-left:auto;\n",
        "    margin-right:auto;\n",
        "}\n",
        "\n",
        "\n",
        "/* Formatting for header cells */\n",
        ".text_cell_render h1 {\n",
        "    font-family: 'Nixie One', serif;\n",
        "    font-style:regular;\n",
        "    font-weight: 400;    \n",
        "    font-size: 45pt;\n",
        "    line-height: 100%;\n",
        "    color: rgb(0,51,102);\n",
        "    margin-bottom: 0.5em;\n",
        "    margin-top: 0.5em;\n",
        "    display: block;\n",
        "}\t\n",
        ".text_cell_render h2 {\n",
        "    font-family: 'Nixie One', serif;\n",
        "    font-weight: 400;\n",
        "    font-size: 30pt;\n",
        "    line-height: 100%;\n",
        "    color: rgb(0,51,102);\n",
        "    margin-bottom: 0.1em;\n",
        "    margin-top: 0.3em;\n",
        "    display: block;\n",
        "}\t\n",
        "\n",
        ".text_cell_render h3 {\n",
        "    font-family: 'Nixie One', serif;\n",
        "    margin-top:16px;\n",
        "\tfont-size: 22pt;\n",
        "    font-weight: 600;\n",
        "    margin-bottom: 3px;\n",
        "    font-style: regular;\n",
        "    color: rgb(102,102,0);\n",
        "}\n",
        "\n",
        ".text_cell_render h4 {    /*Use this for captions*/\n",
        "    font-family: 'Nixie One', serif;\n",
        "    font-size: 14pt;\n",
        "    text-align: center;\n",
        "    margin-top: 0em;\n",
        "    margin-bottom: 2em;\n",
        "    font-style: regular;\n",
        "}\n",
        "\n",
        ".text_cell_render h5 {  /*Use this for small titles*/\n",
        "    font-family: 'Nixie One', sans-serif;\n",
        "    font-weight: 400;\n",
        "    font-size: 16pt;\n",
        "    color: rgb(163,0,0);\n",
        "    font-style: italic;\n",
        "    margin-bottom: .1em;\n",
        "    margin-top: 0.8em;\n",
        "    display: block;\n",
        "}\n",
        "\n",
        ".text_cell_render h6 { /*use this for copyright note*/\n",
        "    font-family: 'PT Mono', sans-serif;\n",
        "    font-weight: 300;\n",
        "    font-size: 9pt;\n",
        "    line-height: 100%;\n",
        "    color: grey;\n",
        "    margin-bottom: 1px;\n",
        "    margin-top: 1px;\n",
        "}\n",
        "\n",
        ".CodeMirror{\n",
        "        font-family: \"PT Mono\";\n",
        "        font-size: 90%;\n",
        "}\n",
        "\n",
        "</style>\n",
        "<script>\n",
        "    MathJax.Hub.Config({\n",
        "                        TeX: {\n",
        "                           extensions: [\"AMSmath.js\"],\n",
        "                           equationNumbers: { autoNumber: \"AMS\", useLabelIds: true}\n",
        "                           },\n",
        "                tex2jax: {\n",
        "                    inlineMath: [ ['$','$'], [\"\\\\(\",\"\\\\)\"] ],\n",
        "                    displayMath: [ ['$$','$$'], [\"\\\\[\",\"\\\\]\"] ]\n",
        "                },\n",
        "                displayAlign: 'center', // Change this to 'center' to center equations.\n",
        "                \"HTML-CSS\": {\n",
        "                    styles: {'.MathJax_Display': {\"margin\": 4}}\n",
        "                }\n",
        "        });\n",
        "</script>"
       ],
       "metadata": {},
       "output_type": "display_data",
       "text": [
        "<IPython.core.display.HTML at 0x7f3f81797f50>"
       ]
      }
     ],
     "prompt_number": 3
    },
    {
     "cell_type": "markdown",
     "metadata": {
      "slideshow": {
       "slide_type": "slide"
      }
     },
     "source": [
      "# IPython Notebook\n",
      "\n",
      "![IPython Notebook](http://ipython.org/_static/ipy_0.13.png)"
     ]
    },
    {
     "cell_type": "markdown",
     "metadata": {
      "slideshow": {
       "slide_type": "slide"
      }
     },
     "source": [
      "## Publicando el trabajo\n",
      "IPython contiene una herramienta llamada `nbconvert` que permite convertir el archivo `.ipynb` de una libreta en un documento estatico en diversos formatos.\n",
      "\n",
      "Actualmente `nbconvert` es una herramienta en la linea de comando y se ejecuta como un script de Ipython. Existen extensiones experimentales para exportar directamente desde la libreta web, pero no son suficientemente estables para ser parte de la distribucion actual.\n",
      "\n",
      "La sintaxis para el uso de `nbconvert` es: [MAS INFORMACION](http://ipython.org/ipython-doc/2/notebook/nbconvert.html)\n",
      "\n",
      "    ipython nbconvert --to FORMATO libreta.ipynb\n",
      "\n",
      "Esta libreta sera convertida a los siguiente formatos publicables usando esta herramienta:\n",
      "\n",
      "* HTML\n",
      "\n",
      "* PDF \n",
      "\n",
      "* $\\LaTeX$\n",
      "\n",
      "* Presentacion (usando `Reveal.js`) \n",
      "\n",
      "\n",
      "[VER MAS](http://nbviewer.ipython.org/github/Carreau/posts/blob/master/06-NBconvert-Doc-Draft.ipynb)"
     ]
    },
    {
     "cell_type": "markdown",
     "metadata": {
      "slideshow": {
       "slide_type": "slide"
      }
     },
     "source": [
      "## Exportando desde la libreta\n",
      "Usando las capacidades de ejecutar comandos del SO, podemos exportar al documento desde la libreta. Por ejemplo para crear `.html`:"
     ]
    },
    {
     "cell_type": "code",
     "collapsed": false,
     "input": [
      "%%bash\n",
      "rm output/*\n",
      "ipython nbconvert --to html lania2014_ipython.ipynb\n",
      "mv *.html output/"
     ],
     "language": "python",
     "metadata": {
      "slideshow": {
       "slide_type": "fragment"
      }
     },
     "outputs": [
      {
       "output_type": "stream",
       "stream": "stdout",
       "text": [
        "This application is used to convert notebook files (*.ipynb) to various other\n",
        "formats.\n",
        "\n",
        "WARNING: THE COMMANDLINE INTERFACE MAY CHANGE IN FUTURE RELEASES.\n",
        "\n",
        "Options\n",
        "-------\n",
        "\n",
        "Arguments that take values are actually convenience aliases to full\n",
        "Configurables, whose aliases are listed on the help line. For more information\n",
        "on full configurables, see '--help-all'.\n",
        "\n",
        "--debug\n",
        "    set log level to logging.DEBUG (maximize logging output)\n",
        "--init\n",
        "    Initialize profile with default config files.  This is equivalent\n",
        "    to running `ipython profile create <profile>` prior to startup.\n",
        "--quiet\n",
        "    set log level to logging.CRITICAL (minimize logging output)\n",
        "--stdout\n",
        "    Write notebook output to stdout instead of files.\n",
        "--profile=<Unicode> (BaseIPythonApplication.profile)\n",
        "    Default: u'default'\n",
        "    The IPython profile to use.\n",
        "--reveal-prefix=<Unicode> (RevealHelpPreprocessor.url_prefix)\n",
        "    Default: 'reveal.js'\n",
        "    The URL prefix for reveal.js. This can be a a relative URL for a local copy\n",
        "    of reveal.js, or point to a CDN.\n",
        "    For speaker notes to work, a local reveal.js prefix must be used.\n",
        "--ipython-dir=<Unicode> (BaseIPythonApplication.ipython_dir)\n",
        "    Default: u''\n",
        "    The name of the IPython directory. This directory is used for logging\n",
        "    configuration (through profiles), history storage, etc. The default is\n",
        "    usually $HOME/.ipython. This options can also be specified through the\n",
        "    environment variable IPYTHONDIR.\n",
        "--writer=<DottedObjectName> (NbConvertApp.writer_class)\n",
        "    Default: 'FilesWriter'\n",
        "    Writer class used to write the  results of the conversion\n",
        "--log-level=<Enum> (Application.log_level)\n",
        "    Default: 30\n",
        "    Choices: (0, 10, 20, 30, 40, 50, 'DEBUG', 'INFO', 'WARN', 'ERROR', 'CRITICAL')\n",
        "    Set the log level by value or name.\n",
        "--to=<CaselessStrEnum> (NbConvertApp.export_format)\n",
        "    Default: 'html'\n",
        "    Choices: ['custom', 'html', 'latex', 'markdown', 'python', 'rst', 'slides']\n",
        "    The export format to be used.\n",
        "--template=<Unicode> (TemplateExporter.template_file)\n",
        "    Default: u'default'\n",
        "    Name of the template file to use\n",
        "--output=<Unicode> (NbConvertApp.output_base)\n",
        "    Default: ''\n",
        "    overwrite base name use for output files. can only  be use when converting\n",
        "    one notebook at a time.\n",
        "--post=<DottedOrNone> (NbConvertApp.postprocessor_class)\n",
        "    Default: u''\n",
        "    PostProcessor class used to write the  results of the conversion\n",
        "--config=<Unicode> (BaseIPythonApplication.extra_config_file)\n",
        "    Default: u''\n",
        "    Path to an extra config file to load.\n",
        "    If specified, load this config file in addition to any other IPython config.\n",
        "--profile-dir=<Unicode> (ProfileDir.location)\n",
        "    Default: u''\n",
        "    Set the profile location directly. This overrides the logic used by the\n",
        "    `profile` option.\n",
        "\n",
        "To see all available configurables, use `--help-all`\n",
        "\n",
        "Examples\n",
        "--------\n",
        "\n",
        "    The simplest way to use nbconvert is\n",
        "    \n",
        "    > ipython nbconvert mynotebook.ipynb\n",
        "    \n",
        "    which will convert mynotebook.ipynb to the default format (probably HTML).\n",
        "    \n",
        "    You can specify the export format with `--to`.\n",
        "    Options include ['custom', 'html', 'latex', 'markdown', 'python', 'rst', 'slides']\n",
        "    \n",
        "    > ipython nbconvert --to latex mynotebook.ipynb\n",
        "    \n",
        "    Both HTML and LaTeX support multiple output templates. LaTeX includes\n",
        "    'base', 'article' and 'report'.  HTML includes 'basic' and 'full'. You\n",
        "    can specify the flavor of the format used.\n",
        "    \n",
        "    > ipython nbconvert --to html --template basic mynotebook.ipynb\n",
        "    \n",
        "    You can also pipe the output to stdout, rather than a file\n",
        "    \n",
        "    > ipython nbconvert mynotebook.ipynb --stdout\n",
        "    \n",
        "    A post-processor can be used to compile a PDF\n",
        "    \n",
        "    > ipython nbconvert mynotebook.ipynb --to latex --post PDF\n",
        "    \n",
        "    You can get (and serve) a Reveal.js-powered slideshow\n",
        "    \n",
        "    > ipython nbconvert myslides.ipynb --to slides --post serve\n",
        "    \n",
        "    Multiple notebooks can be given at the command line in a couple of \n",
        "    different ways:\n",
        "    \n",
        "    > ipython nbconvert notebook*.ipynb\n",
        "    > ipython nbconvert notebook1.ipynb notebook2.ipynb\n",
        "    \n",
        "    or you can specify the notebooks list in a config file, containing::\n",
        "    \n",
        "        c.NbConvertApp.notebooks = [\"my_notebook.ipynb\"]\n",
        "    \n",
        "    > ipython nbconvert --config mycfg.py\n",
        "\n"
       ]
      },
      {
       "output_type": "stream",
       "stream": "stderr",
       "text": [
        "rm: no se puede borrar \u00aboutput/*\u00bb: No existe el archivo o el directorio\n",
        "[NbConvertApp] Using existing profile dir: u'/home/manuel/.ipython/profile_default'\n",
        "[NbConvertApp] WARNING | pattern u'lania2014_ipython.ipynb' matched no files\n",
        "mv: no se puede efectuar `stat' sobre \u00ab*.html\u00bb: No existe el archivo o el directorio\n"
       ]
      }
     ],
     "prompt_number": 4
    },
    {
     "cell_type": "markdown",
     "metadata": {
      "slideshow": {
       "slide_type": "slide"
      }
     },
     "source": [
      "## Algunas libretas interesantes\n",
      "Los enlaces que se presentan aqui son ejemplos del extendido uso de las IPython Notebooks en diferentes areas de interes. Los ejemplos cubren temas que van desde el uso basico de las libretas y las herramientas, hasta ejemplos muy avanzados. \n",
      "\n",
      "Algunos de los ejemplos que veremos en las siguientes sesiones estan basados o inspirados en algunas de estas libretas, de modo que tambien pueden servir como referencia. (**Nota: estas libretas estan en ingles**)"
     ]
    },
    {
     "cell_type": "code",
     "collapsed": false,
     "input": [
      "website('http://nbviewer.ipython.org/')"
     ],
     "language": "python",
     "metadata": {},
     "outputs": [
      {
       "html": [
        "<div sytle=\"margin-bottom:10px\">\n",
        "<a href=\"http://nbviewer.ipython.org/\">http://nbviewer.ipython.org/</a>\n",
        "</div>\n",
        "<iframe src=\"http://nbviewer.ipython.org/\"  width=\"800\" height=\"450\"></iframe>"
       ],
       "metadata": {},
       "output_type": "pyout",
       "prompt_number": 5,
       "text": [
        "<IPython.core.display.HTML at 0x7f3fa00f5710>"
       ]
      }
     ],
     "prompt_number": 5
    },
    {
     "cell_type": "markdown",
     "metadata": {},
     "source": [
      "## Ejercicio\n",
      "Convertir cualquiera de las libretas con las que hemos trabajado a un documento en formato `.html` y abrirlo en su navegador."
     ]
    },
    {
     "cell_type": "markdown",
     "metadata": {},
     "source": [
      "Con esta libreta terminamos nuestra introduccion a Python a las IPython Notebooks. En las siguientes sesiones usaremos este lenguaje y la tecnologia de las IPython Notebooks para resolver algunos problemas con los cuales aprenderemos mas de esta plataforma de desarrollo."
     ]
    },
    {
     "cell_type": "markdown",
     "metadata": {},
     "source": [
      "Ahora que se han dado una idea de lo que pueden hacer con IPython Notebooks, es el momento de pensar en su proyecto final. "
     ]
    },
    {
     "cell_type": "markdown",
     "metadata": {},
     "source": [
      "El projecto final consiste en resolver un problema, desarrollar una aplicacion, etc. de cualquier tema, usando las herramientas que estamos presentando/desarrollando en este curso. "
     ]
    },
    {
     "cell_type": "markdown",
     "metadata": {},
     "source": [
      "Por ejemplo pueden crear una base de datos o accederla, y analizarlos usando `pandas`. Pueden resolver un problema de ingenieria usando `numpy` y `matplotlib`, etc."
     ]
    },
    {
     "cell_type": "markdown",
     "metadata": {},
     "source": [
      "Aun cuando aun no hemos tocado temas relacionados con dispositivos moviles, pueden darse una idea del tipo de cosas que podrian hacer. En las siguiente sesiones usaremos nuestros dispositivos como herramientas de adquisicion de datos."
     ]
    },
    {
     "cell_type": "markdown",
     "metadata": {},
     "source": [
      "Piensen en sus intereses profesionales/personales y como podrian aprovechar las posibilidades que ofrece esta teconologia para resolver/desarrollar algun problema o tema de interes. Pueden buscar ideas revisando las libretas de la galeria anterior o usando su amigo [Google](google.com.mx)."
     ]
    },
    {
     "cell_type": "markdown",
     "metadata": {},
     "source": [
      "Finalmente, asegurense de que han guardado los cambios de todas sus libretas, esto con el fin de monitorear sus avances. Nuestra siguiente sesion consiste en aprender sobre un sistema de organizacion y control de contenido digital que usaremos durante el resto del curso, y con el cual podremos darle seguimiento a los cambios y avances de sus actividades."
     ]
    },
    {
     "cell_type": "markdown",
     "metadata": {},
     "source": [
      "Pasemos entonces a la sesion de como  [organizar y controlar contenido digital](Lib11_GIT01_RevisionControl_1aEtapa.ipynb) usando git."
     ]
    }
   ],
   "metadata": {}
  }
 ]
}