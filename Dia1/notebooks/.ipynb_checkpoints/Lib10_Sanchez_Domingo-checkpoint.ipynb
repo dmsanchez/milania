{
 "metadata": {
  "name": "",
  "signature": "sha256:e1d47d2259126d75f230ea3fd0878b3b67cd0ee502ed8ec0b17f033194108bd4"
 },
 "nbformat": 3,
 "nbformat_minor": 0,
 "worksheets": [
  {
   "cells": [
    {
     "cell_type": "code",
     "collapsed": false,
     "input": [
      "%%bash\n",
      "mkdir output\n",
      "rm output/*\n",
      "ipython nbconvert --to html lania2014_ipython.ipynb\n",
      "mv *.html output/"
     ],
     "language": "python",
     "metadata": {},
     "outputs": [
      {
       "output_type": "stream",
       "stream": "stderr",
       "text": [
        "mkdir: no se puede crear el directorio \u00aboutput\u00bb: El archivo ya existe\n",
        "[NbConvertApp] Using existing profile dir: u'/home/manuel/.ipython/profile_default'\n",
        "[NbConvertApp] Converting notebook Lib10_Sanchez_Domingo.ipynb to html\n",
        "[NbConvertApp] Support files will be in Lib10_Sanchez_Domingo_files/\n",
        "[NbConvertApp] Loaded template full.tpl\n",
        "[NbConvertApp] Writing 190883 bytes to Lib10_Sanchez_Domingo.html\n"
       ]
      }
     ],
     "prompt_number": 16
    },
    {
     "cell_type": "code",
     "collapsed": false,
     "input": [
      "website('http://nbviewer.ipython.org/')"
     ],
     "language": "python",
     "metadata": {},
     "outputs": [
      {
       "ename": "NameError",
       "evalue": "name 'website' is not defined",
       "output_type": "pyerr",
       "traceback": [
        "\u001b[1;31m---------------------------------------------------------------------------\u001b[0m\n\u001b[1;31mNameError\u001b[0m                                 Traceback (most recent call last)",
        "\u001b[1;32m<ipython-input-13-30cb61216828>\u001b[0m in \u001b[0;36m<module>\u001b[1;34m()\u001b[0m\n\u001b[1;32m----> 1\u001b[1;33m \u001b[0mwebsite\u001b[0m\u001b[1;33m(\u001b[0m\u001b[1;34m'http://nbviewer.ipython.org/'\u001b[0m\u001b[1;33m)\u001b[0m\u001b[1;33m\u001b[0m\u001b[0m\n\u001b[0m",
        "\u001b[1;31mNameError\u001b[0m: name 'website' is not defined"
       ]
      }
     ],
     "prompt_number": 13
    }
   ],
   "metadata": {}
  }
 ]
}