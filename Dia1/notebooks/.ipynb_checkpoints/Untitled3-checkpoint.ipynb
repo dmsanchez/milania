{
 "metadata": {
  "name": "",
  "signature": "sha256:71080613004963263cb36acc14d7607f1aa6935c6f8b1aac379b30f7246bb457"
 },
 "nbformat": 3,
 "nbformat_minor": 0,
 "worksheets": []
}