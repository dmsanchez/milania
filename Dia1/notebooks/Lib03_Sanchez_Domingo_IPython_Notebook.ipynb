{
 "metadata": {
  "name": "",
  "signature": "sha256:8878697220bb41f04f9f2787060029d49f517490fdf53c205f2f9cd29e068973"
 },
 "nbformat": 3,
 "nbformat_minor": 0,
 "worksheets": [
  {
   "cells": [
    {
     "cell_type": "code",
     "collapsed": false,
     "input": [
      "def funcion_con_un_nombre_muy_largo_y_algo_boba(a,b):\n",
      "    \"\"\"\n",
      "    Este texto es el docstring de boba. \n",
      "    La funcion toma dos argumentos a y b\n",
      "    Regresa la suma de los argumentos a + b\n",
      "    No hay verificacion de errores\n",
      "    \"\"\"\n",
      "    return a+b"
     ],
     "language": "python",
     "metadata": {},
     "outputs": [],
     "prompt_number": 2
    },
    {
     "cell_type": "code",
     "collapsed": false,
     "input": [
      "funcion_con_un_nombre_muy_largo_y_algo_boba?"
     ],
     "language": "python",
     "metadata": {},
     "outputs": [],
     "prompt_number": 3
    },
    {
     "cell_type": "code",
     "collapsed": false,
     "input": [
      "funcion_con_un_nombre_muy_largo_y_algo_boba??"
     ],
     "language": "python",
     "metadata": {},
     "outputs": [],
     "prompt_number": 5
    },
    {
     "cell_type": "code",
     "collapsed": false,
     "input": [
      "funcion_con_un_nombre_muy_largo_y_algo_boba"
     ],
     "language": "python",
     "metadata": {},
     "outputs": [
      {
       "metadata": {},
       "output_type": "pyout",
       "prompt_number": 8,
       "text": [
        "<function __main__.funcion_con_un_nombre_muy_largo_y_algo_boba>"
       ]
      }
     ],
     "prompt_number": 8
    },
    {
     "cell_type": "code",
     "collapsed": false,
     "input": [
      "funcion_con_un_nombre_muy_largo_y_algo_boba(5,6)"
     ],
     "language": "python",
     "metadata": {},
     "outputs": [
      {
       "metadata": {},
       "output_type": "pyout",
       "prompt_number": 10,
       "text": [
        "11"
       ]
      }
     ],
     "prompt_number": 10
    },
    {
     "cell_type": "code",
     "collapsed": false,
     "input": [
      "import sys"
     ],
     "language": "python",
     "metadata": {},
     "outputs": [],
     "prompt_number": 13
    },
    {
     "cell_type": "code",
     "collapsed": false,
     "input": [
      "sys.path"
     ],
     "language": "python",
     "metadata": {},
     "outputs": [
      {
       "metadata": {},
       "output_type": "pyout",
       "prompt_number": 18,
       "text": [
        "['',\n",
        " '/home/manuel/anaconda/lib/python27.zip',\n",
        " '/home/manuel/anaconda/lib/python2.7',\n",
        " '/home/manuel/anaconda/lib/python2.7/plat-linux2',\n",
        " '/home/manuel/anaconda/lib/python2.7/lib-tk',\n",
        " '/home/manuel/anaconda/lib/python2.7/lib-old',\n",
        " '/home/manuel/anaconda/lib/python2.7/lib-dynload',\n",
        " '/home/manuel/anaconda/lib/python2.7/site-packages',\n",
        " '/home/manuel/anaconda/lib/python2.7/site-packages/PIL',\n",
        " '/home/manuel/anaconda/lib/python2.7/site-packages/Sphinx-1.2.3-py2.7.egg',\n",
        " '/home/manuel/anaconda/lib/python2.7/site-packages/runipy-0.1.1-py2.7.egg',\n",
        " '/home/manuel/anaconda/lib/python2.7/site-packages/setuptools-5.8-py2.7.egg',\n",
        " '/home/manuel/anaconda/lib/python2.7/site-packages/IPython/extensions']"
       ]
      }
     ],
     "prompt_number": 18
    },
    {
     "cell_type": "markdown",
     "metadata": {},
     "source": [
      "Al importar la sys y dar tab despues del punto muestra la lista de metodos que contiene sys en path"
     ]
    }
   ],
   "metadata": {}
  }
 ]
}