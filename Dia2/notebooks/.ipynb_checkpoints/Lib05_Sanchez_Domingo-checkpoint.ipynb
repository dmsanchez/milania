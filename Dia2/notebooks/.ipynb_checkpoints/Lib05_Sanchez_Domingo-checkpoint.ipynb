{
 "metadata": {
  "name": "",
  "signature": "sha256:37df014a00079801af12d68b1e81830a6f561f061ba0b7964677e8b9568d9c75"
 },
 "nbformat": 3,
 "nbformat_minor": 0,
 "worksheets": [
  {
   "cells": [
    {
     "cell_type": "code",
     "collapsed": false,
     "input": [],
     "language": "python",
     "metadata": {},
     "outputs": []
    }
   ],
   "metadata": {}
  }
 ]
}