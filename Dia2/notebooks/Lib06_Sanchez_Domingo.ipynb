{
 "metadata": {
  "name": "",
  "signature": "sha256:e3f88fe0996470a09aea866c8ca7929f9f41844f2e0fcf7a5826ad4239030805"
 },
 "nbformat": 3,
 "nbformat_minor": 0,
 "worksheets": [
  {
   "cells": [
    {
     "cell_type": "code",
     "collapsed": false,
     "input": [
      "len('No le creas nada a mi mente dise\u00f1ada por los medios')"
     ],
     "language": "python",
     "metadata": {},
     "outputs": [
      {
       "metadata": {},
       "output_type": "pyout",
       "prompt_number": 12,
       "text": [
        "52"
       ]
      }
     ],
     "prompt_number": 12
    },
    {
     "cell_type": "code",
     "collapsed": false,
     "input": [
      "'   No le creas nada a mi mente   '.strip()"
     ],
     "language": "python",
     "metadata": {},
     "outputs": [
      {
       "metadata": {},
       "output_type": "pyout",
       "prompt_number": 2,
       "text": [
        "'No le creas nada a mi mente'"
       ]
      }
     ],
     "prompt_number": 2
    },
    {
     "cell_type": "code",
     "collapsed": false,
     "input": [
      "'No le creas nada a mi mente dise\u00f1ada por los medios'.replace('nada','mucho')"
     ],
     "language": "python",
     "metadata": {},
     "outputs": [
      {
       "metadata": {},
       "output_type": "pyout",
       "prompt_number": 3,
       "text": [
        "'No le creas mucho a mi mente dise\\xc3\\xb1ada por los medios'"
       ]
      }
     ],
     "prompt_number": 3
    },
    {
     "cell_type": "code",
     "collapsed": false,
     "input": [
      "'Hay %s que se cierran pero se destacan' % 'ciatrices'"
     ],
     "language": "python",
     "metadata": {},
     "outputs": [
      {
       "metadata": {},
       "output_type": "pyout",
       "prompt_number": 5,
       "text": [
        "'Hay ciatrices que se cierran pero se destacan'"
       ]
      }
     ],
     "prompt_number": 5
    },
    {
     "cell_type": "code",
     "collapsed": false,
     "input": [
      "'Hay demasiadas formas de morir.'.startswith('H')"
     ],
     "language": "python",
     "metadata": {},
     "outputs": [
      {
       "metadata": {},
       "output_type": "pyout",
       "prompt_number": 9,
       "text": [
        "True"
       ]
      }
     ],
     "prompt_number": 9
    },
    {
     "cell_type": "code",
     "collapsed": false,
     "input": [
      "'para terminar ba\u00f1\u00e1ndonos en la azotea '.count('en')"
     ],
     "language": "python",
     "metadata": {},
     "outputs": [
      {
       "metadata": {},
       "output_type": "pyout",
       "prompt_number": 8,
       "text": [
        "1"
       ]
      }
     ],
     "prompt_number": 8
    },
    {
     "cell_type": "code",
     "collapsed": false,
     "input": [
      "' ;) '.join([\n",
      "    'Bienvenidos al curso de RySi 2014', \n",
      "    'donde aprender\u00e1n a usar un poco de Python',\n",
      "])"
     ],
     "language": "python",
     "metadata": {},
     "outputs": [
      {
       "metadata": {},
       "output_type": "pyout",
       "prompt_number": 13,
       "text": [
        "'Bienvenidos al curso de RySi 2014 ;) donde aprender\\xc3\\xa1n a usar un poco de Python'"
       ]
      }
     ],
     "prompt_number": 13
    },
    {
     "cell_type": "code",
     "collapsed": false,
     "input": [
      "'las piernas cruzadas, las manos en el regazo'.split(', ')"
     ],
     "language": "python",
     "metadata": {},
     "outputs": [
      {
       "metadata": {},
       "output_type": "pyout",
       "prompt_number": 14,
       "text": [
        "['las piernas cruzadas', 'las manos en el regazo']"
       ]
      }
     ],
     "prompt_number": 14
    },
    {
     "cell_type": "code",
     "collapsed": false,
     "input": [
      "palabras = 'No soy en ello diferente a la mayor parte de los seres humanos'.split()\n",
      "['*%s*' % x for x in palabras]"
     ],
     "language": "python",
     "metadata": {},
     "outputs": [
      {
       "metadata": {},
       "output_type": "pyout",
       "prompt_number": 15,
       "text": [
        "['*No*',\n",
        " '*soy*',\n",
        " '*en*',\n",
        " '*ello*',\n",
        " '*diferente*',\n",
        " '*a*',\n",
        " '*la*',\n",
        " '*mayor*',\n",
        " '*parte*',\n",
        " '*de*',\n",
        " '*los*',\n",
        " '*seres*',\n",
        " '*humanos*']"
       ]
      }
     ],
     "prompt_number": 15
    },
    {
     "cell_type": "code",
     "collapsed": false,
     "input": [
      "palabras = 'No soy en ello diferente a la mayor parte de los seres humanos'.split()\n",
      "['*%s*' % len(x) for x in palabras]"
     ],
     "language": "python",
     "metadata": {},
     "outputs": [
      {
       "metadata": {},
       "output_type": "pyout",
       "prompt_number": 16,
       "text": [
        "['*2*',\n",
        " '*3*',\n",
        " '*2*',\n",
        " '*4*',\n",
        " '*9*',\n",
        " '*1*',\n",
        " '*2*',\n",
        " '*5*',\n",
        " '*5*',\n",
        " '*2*',\n",
        " '*3*',\n",
        " '*5*',\n",
        " '*7*']"
       ]
      }
     ],
     "prompt_number": 16
    },
    {
     "cell_type": "code",
     "collapsed": false,
     "input": [
      "codigoPorEstado = {'Aguascalientes': 'AGU', \n",
      "             'Sonora': 'SON', \n",
      "             'Oaxaca': 'OAX', \n",
      "             'Veracruz': 'VER'}\n",
      "codigoPorEstado"
     ],
     "language": "python",
     "metadata": {},
     "outputs": [
      {
       "metadata": {},
       "output_type": "pyout",
       "prompt_number": 17,
       "text": [
        "{'Aguascalientes': 'AGU', 'Oaxaca': 'OAX', 'Sonora': 'SON', 'Veracruz': 'VER'}"
       ]
      }
     ],
     "prompt_number": 17
    },
    {
     "cell_type": "code",
     "collapsed": false,
     "input": [
      "codigoPorEstado.keys()"
     ],
     "language": "python",
     "metadata": {},
     "outputs": [
      {
       "metadata": {},
       "output_type": "pyout",
       "prompt_number": 18,
       "text": [
        "['Veracruz', 'Oaxaca', 'Aguascalientes', 'Sonora']"
       ]
      }
     ],
     "prompt_number": 18
    },
    {
     "cell_type": "code",
     "collapsed": false,
     "input": [
      "codigoPorEstado['Jalisco'] = 'JAL'\n",
      "codigoPorEstado"
     ],
     "language": "python",
     "metadata": {},
     "outputs": [
      {
       "metadata": {},
       "output_type": "pyout",
       "prompt_number": 19,
       "text": [
        "{'Aguascalientes': 'AGU',\n",
        " 'Jalisco': 'JAL',\n",
        " 'Oaxaca': 'OAX',\n",
        " 'Sonora': 'SON',\n",
        " 'Veracruz': 'VER'}"
       ]
      }
     ],
     "prompt_number": 19
    },
    {
     "cell_type": "code",
     "collapsed": false,
     "input": [
      "codigoPorEstado['Veracruz']"
     ],
     "language": "python",
     "metadata": {},
     "outputs": [
      {
       "metadata": {},
       "output_type": "pyout",
       "prompt_number": 20,
       "text": [
        "'VER'"
       ]
      }
     ],
     "prompt_number": 20
    },
    {
     "cell_type": "code",
     "collapsed": false,
     "input": [
      "estadoPorCodigo = {codigo: estado for estado, codigo in codigoPorEstado.iteritems()}\n",
      "estadoPorCodigo"
     ],
     "language": "python",
     "metadata": {},
     "outputs": [
      {
       "metadata": {},
       "output_type": "pyout",
       "prompt_number": 21,
       "text": [
        "{'AGU': 'Aguascalientes',\n",
        " 'JAL': 'Jalisco',\n",
        " 'OAX': 'Oaxaca',\n",
        " 'SON': 'Sonora',\n",
        " 'VER': 'Veracruz'}"
       ]
      }
     ],
     "prompt_number": 21
    },
    {
     "cell_type": "code",
     "collapsed": false,
     "input": [
      "def suma(x,y):\n",
      "    return x + y\n",
      "\n",
      "suma(1,2)"
     ],
     "language": "python",
     "metadata": {},
     "outputs": [
      {
       "metadata": {},
       "output_type": "pyout",
       "prompt_number": 22,
       "text": [
        "3"
       ]
      }
     ],
     "prompt_number": 22
    },
    {
     "cell_type": "code",
     "collapsed": false,
     "input": [
      "multiplica = lambda x,y: x*y\n",
      "multiplica(1,2)"
     ],
     "language": "python",
     "metadata": {},
     "outputs": [
      {
       "metadata": {},
       "output_type": "pyout",
       "prompt_number": 23,
       "text": [
        "2"
       ]
      }
     ],
     "prompt_number": 23
    },
    {
     "cell_type": "code",
     "collapsed": false,
     "input": [
      "metodos = [suma, multiplica]\n",
      "metodos"
     ],
     "language": "python",
     "metadata": {},
     "outputs": [
      {
       "metadata": {},
       "output_type": "pyout",
       "prompt_number": 24,
       "text": [
        "[<function __main__.suma>, <function __main__.<lambda>>]"
       ]
      }
     ],
     "prompt_number": 24
    },
    {
     "cell_type": "code",
     "collapsed": false,
     "input": [
      "import random\n",
      "for x in xrange(5):\n",
      "    combina = random.choice(metodos)\n",
      "    print combina(4,5)"
     ],
     "language": "python",
     "metadata": {},
     "outputs": [
      {
       "output_type": "stream",
       "stream": "stdout",
       "text": [
        "9\n",
        "20\n",
        "9\n",
        "20\n",
        "9\n"
       ]
      }
     ],
     "prompt_number": 25
    },
    {
     "cell_type": "code",
     "collapsed": false,
     "input": [
      "from bs4 import BeautifulSoup\n",
      "from urllib2 import urlopen\n",
      "\n",
      "def get_enlaces(url):\n",
      "    html = urlopen(url).read()\n",
      "    enlaces = BeautifulSoup(html).find_all('a')\n",
      "    return [enlace.get('href') for enlace in enlaces]"
     ],
     "language": "python",
     "metadata": {},
     "outputs": [],
     "prompt_number": 26
    },
    {
     "cell_type": "code",
     "collapsed": false,
     "input": [
      "get_enlaces('http://www.lania.mx/')[:5]"
     ],
     "language": "python",
     "metadata": {},
     "outputs": [
      {
       "metadata": {},
       "output_type": "pyout",
       "prompt_number": 27,
       "text": [
        "['/index.php?option=com_content&view=article&id=6&Itemid=20',\n",
        " '/index.php?option=com_content&view=article&id=14&Itemid=12',\n",
        " '/index.php?option=com_content&view=article&id=45&Itemid=32',\n",
        " '/index.php?option=com_content&view=article&id=18&Itemid=15',\n",
        " '/index.php?option=com_content&view=article&id=13&Itemid=16']"
       ]
      }
     ],
     "prompt_number": 27
    },
    {
     "cell_type": "code",
     "collapsed": false,
     "input": [
      "get_enlaces('http://google.com')[:5]"
     ],
     "language": "python",
     "metadata": {},
     "outputs": [
      {
       "metadata": {},
       "output_type": "pyout",
       "prompt_number": 28,
       "text": [
        "['http://www.google.com.mx/imghp?hl=es-419&tab=wi',\n",
        " 'https://play.google.com/?hl=es-419&tab=w8',\n",
        " 'http://mx.youtube.com/?gl=MX&tab=w1',\n",
        " 'http://news.google.com.mx/nwshp?hl=es-419&tab=wn',\n",
        " 'https://mail.google.com/mail/?tab=wm']"
       ]
      }
     ],
     "prompt_number": 28
    },
    {
     "cell_type": "code",
     "collapsed": false,
     "input": [
      "get_enlaces('http://www.mediotiempo.com')[:]"
     ],
     "language": "python",
     "metadata": {},
     "outputs": [
      {
       "metadata": {},
       "output_type": "pyout",
       "prompt_number": 33,
       "text": [
        "['http://www5.smartadserver.com/call/pubjumpi/20438/144743/11534/S/[timestamp]/?',\n",
        " 'http://www5.smartadserver.com/call/pubjumpi/20438/144743/9182/S/[timestamp]/?',\n",
        " 'http://www5.smartadserver.com/call/pubjumpi/20438/144743/9182/S/[timestamp]/?',\n",
        " 'http://www.mediotiempo.com/promociones.php',\n",
        " 'http://www.mediotiempo.com/shop/',\n",
        " 'http://juegos.mediotiempo.com/',\n",
        " 'javascript:document.busquedaheader.submit();',\n",
        " 'http://www.mediotiempo.com/',\n",
        " '/fixercellphone.php?siteVersion=1',\n",
        " 'http://www.mediotiempo.com/norte?NR=1',\n",
        " 'http://www.facebook.com/somosmediotiempo?ref=ts',\n",
        " 'http://www.twitter.com/mediotiempo',\n",
        " 'https://plus.google.com/+MedioTiempo',\n",
        " 'http://instagram.com/mediotiempocom/',\n",
        " 'http://www.youtube.com/user/MedioTiempoTV12',\n",
        " 'https://vine.co/MedioTiempo',\n",
        " 'http://www5.smartadserver.com/call/pubjumpi/20438/144743/9707/S/[timestamp]/?',\n",
        " 'http://www.mediotiempo.com/tabla_general.php?id_liga=1&id_torneo=479',\n",
        " 'http://www.mediotiempo.com/futbol/noticias/',\n",
        " 'http://www.mediotiempo.com/futbol/liga-espanola',\n",
        " 'http://www.mediotiempo.com/futbol/seleccion-mexicana/',\n",
        " 'http://www.mediotiempo.com/futbol/champions-league/',\n",
        " 'http://www.mediotiempo.com/multimedia/videos/capsulas',\n",
        " 'http://www.mediotiempo.com/mas-deportes/',\n",
        " 'http://www.mediotiempo.com/mas-deportes/nfl/',\n",
        " 'http://www.mediotiempo.com/mas-deportes/motor/',\n",
        " 'http://www.mediotiempo.com/futbol/mls/',\n",
        " 'http://www.mediotiempo.com/jornadas.php?id_liga=1&id_torneo=479&jornada=cuartos',\n",
        " 'http://www.mediotiempo.com/jornadas.php?id_liga=2&jornada=final',\n",
        " 'http://www.mediotiempo.com/jornadas.php?id_liga=14&jornada5',\n",
        " 'http://www.mediotiempo.com/jornadas.php?id_liga=15&jornada=preliminar',\n",
        " 'http://www.mediotiempo.com/jornadas.php?id_liga=68&id_torneo=483&jornada=final',\n",
        " 'http://www.mediotiempo.com//jornadas.php?id_liga=22',\n",
        " 'http://www.mediotiempo.com//multimedia/infografias/wide&cual=13329',\n",
        " 'http://www.mediotiempo.com/mas-deportes/lucha-libre',\n",
        " 'http://foros.mediotiempo.com/',\n",
        " 'http://fantastica.mediotiempo.com/',\n",
        " 'http://quinielas.mediotiempo.com/',\n",
        " 'http://www.mediotiempo.com/futbol/champions-league/noticias/2014/11/27/hh-en-el-11-ideal-de-la-jornada-de-champions',\n",
        " 'http://www.mediotiempo.com/futbol/mexico/noticias/2014/11/27/pikolin-ii-quedo-fuera-de-la-liguilla',\n",
        " 'http://www.mediotiempo.com/mas-deportes/noticias/2014/11/27/barrios-gano-doblete-dorado-ahora-en-10-mil-metros',\n",
        " 'http://www.mediotiempo.com/futbol/mexico/noticias/2014/11/27/para-cardozo-la-tercera-sera-la-vencida',\n",
        " 'http://www.mediotiempo.com/futbol/mexico/noticias/2014/11/27/barra-no-piensa-en-el-futuro-y-le-sonrie-a-su-primer-liguilla',\n",
        " '#',\n",
        " 'http://www.mediotiempo.com/futbol/mexico/cronicas/2014/11/27/pumas-tomo-justa-ventaja-sobre-america_59784',\n",
        " '#',\n",
        " 'http://www.mediotiempo.com/futbol/seleccion-mexicana/cronicas/2014/11/27/tri-obtuvo-boleto-a-la-final-de-jcc-con-sabor-a-oro_59724',\n",
        " '#',\n",
        " 'http://www.mediotiempo.com/chicas/galerias/2014/11/las-chicas-mas-bellas-de-santiagopgm-semana-4',\n",
        " 'http://www.mediotiempo.com/futbol/champions-league/noticias/2014/11/27/hh-en-el-11-ideal-de-la-jornada-de-champions',\n",
        " 'http://www.mediotiempo.com/futbol/mexico/noticias/2014/11/27/pikolin-ii-quedo-fuera-de-la-liguilla',\n",
        " 'http://www.mediotiempo.com/mas-deportes/noticias/2014/11/27/barrios-gano-doblete-dorado-ahora-en-10-mil-metros',\n",
        " 'http://www.mediotiempo.com/futbol/mexico/noticias/2014/11/27/para-cardozo-la-tercera-sera-la-vencida',\n",
        " 'http://www.mediotiempo.com/futbol/mexico/noticias/2014/11/27/barra-no-piensa-en-el-futuro-y-le-sonrie-a-su-primer-liguilla',\n",
        " 'http://www.mediotiempo.com/futbol/mexico/cronicas/2014/11/27/pumas-tomo-justa-ventaja-sobre-america_59784',\n",
        " 'http://www.mediotiempo.com/futbol/mexico/galerias-partidos/2014/11/pumas-se-quedo-con-la-ventaja-en-cu_59784',\n",
        " 'http://www.mediotiempo.com/futbol/mexico/reacciones.php?id_partido=59784',\n",
        " 'http://www.mediotiempo.com/futbol/seleccion-mexicana/cronicas/2014/11/27/tri-obtuvo-boleto-a-la-final-de-jcc-con-sabor-a-oro_59724',\n",
        " 'http://www.mediotiempo.com/chicas/galerias/2014/11/las-chicas-mas-bellas-de-santiagopgm-semana-4',\n",
        " 'javascript:void(0);',\n",
        " 'javascript:void(0); changeindex();',\n",
        " '/futbol/noticias/',\n",
        " '/futbol/mexico/noticias/2014/11/27/reyna-y-michel-encabezarian-transferibles-de-chivas',\n",
        " '/futbol/mexico/noticias/2014/11/27/la-comision-del-jugador-anuncio-cambios-directivos',\n",
        " '/futbol/internacional/reacciones/2014/11/27/estoril-psv-fue-suspendido-por-lluvia_59832',\n",
        " '/futbol/mexico/noticias/2014/11/27/optimismo-envuelto-en-la-piel-de-tigres',\n",
        " '/futbol/mexico/noticias/2014/11/27/optimismo-envuelto-en-la-piel-de-tigres',\n",
        " '/futbol/mexico/noticias/2014/11/27/la-franja-anuncio-lista-de-transferibles',\n",
        " '/futbol/mexico/noticias/2014/11/27/pikolin-ii-quedo-fuera-de-la-liguilla',\n",
        " '/futbol/mexico/noticias/2014/11/27/anunciaron-cambios-en-comision-del-jugador',\n",
        " '/futbol/mexico/noticias/2014/11/27/estoy-preparado-para-el-reto-alfredo-saldivar',\n",
        " '/futbol/liga-espanola/noticias/2014/11/27/vermaelen-sera-operado-y-estara-5-meses-fuera',\n",
        " '/futbol/liga-espanola/noticias/2014/11/27/jugadores-del-barca-quemaron-llanta',\n",
        " '/futbol/liga-espanola/noticias/2014/11/27/jugadores-del-barca-quemaron-llanta',\n",
        " '/futbol/mexico/noticias/2014/11/27/rayados-centenario-de-liguillas',\n",
        " '/futbol/champions-league/noticias/2014/11/27/hh-en-el-11-ideal-de-la-jornada-de-champions',\n",
        " '/futbol/internacional/noticias/2014/11/27/pele-continua-internado-su-salud-recayo',\n",
        " '/futbol/internacional/noticias/2014/11/27/pele-continua-internado-su-salud-recayo',\n",
        " '/futbol/internacional/noticias/2014/11/27/agresor-de-thiago-motta-un-mes-de-prision',\n",
        " '/futbol/internacional/noticias/2014/11/27/agresor-de-thiago-motta-un-mes-de-prision',\n",
        " '/futbol/seleccion-mexicana/noticias/2014/11/27/mexico-cayo-al-sitio-20-del-ranking-fifa',\n",
        " 'http://www.mediotiempo.com/futbol/internacional/reacciones/2014/11/27/estoril-psv-fue-suspendido-por-lluvia_59832',\n",
        " 'http://www.mediotiempo.com/futbol/internacional/noticias/2014/11/27/pele-continua-internado-su-salud-recayo',\n",
        " 'http://www.mediotiempo.com/mas-deportes/noticias/2014/11/15/medallero-de-los-juegos-centroamericanos',\n",
        " 'http://www.mediotiempo.com/futbol/mexico/noticias/2014/11/26/la-maquina-contempla-amistosos-en-espana',\n",
        " 'http://www.mediotiempo.com/futbol/mexico/noticias/2014/11/27/estoy-preparado-para-el-reto-alfredo-saldivar',\n",
        " 'http://www.mediotiempo.com/futbol/mexico/reacciones/2014/11/26/tigres-esta-ganando-ojitos-meza_59783_59783',\n",
        " 'http://www.mediotiempo.com/futbol/seleccion-mexicana/noticias/2014/11/27/mexico-cayo-al-sitio-20-del-ranking-fifa',\n",
        " 'http://www.mediotiempo.com/futbol/mexico/reacciones/2014/11/27/aprovechamos-el-buen-momento-eduardo-herrera_59784',\n",
        " 'http://www.mediotiempo.com/futbol/internacional/noticias/2014/11/27/agresor-de-thiago-motta-un-mes-de-prision',\n",
        " 'http://www.mediotiempo.com/futbol/mexico/reacciones/2014/11/27/el-equipo-no-se-va-a-confiar-de-nada-memo-vazquez_59784_59784',\n",
        " 'http://www.mediotiempo.com/futbol/mexico/reacciones/2014/11/27/mi-revancha-llego-muy-pronto-espericueta_59724',\n",
        " 'http://www.mediotiempo.com/futbol/mexico/reacciones/2014/11/26/tuca-se-mostro-inconforme-con-el-arbitraje_59783_59783',\n",
        " 'http://www5.smartadserver.com/call/pubjumpi/20438/144743/9131/S/[timestamp]/?',\n",
        " 'http://www5.smartadserver.com/call/pubjumpi/20438/144743/9033/S/[timestamp]/?',\n",
        " 'http://www5.smartadserver.com/call/pubjumpi/20438/144743/9034/S/[timestamp]/?',\n",
        " 'http://www5.smartadserver.com/call/pubjumpi/20438/144743/9131/S/[timestamp]/?',\n",
        " 'http://www.mediotiempo.com/mas-deportes/nfl/noticias/2014/11/27/lions-34-bears-17-megatron-disfruto-festin',\n",
        " 'http://www.mediotiempo.com/mas-deportes/nfl/noticias/2014/11/27/lions-34-bears-17-megatron-disfruto-festin',\n",
        " 'http://www.mediotiempo.com/mas-deportes/noticias/2014/11/26/plataforma-dorada-agundez-y-estrella-ganaron-oro-en-clavados-10m',\n",
        " 'http://www.mediotiempo.com/mas-deportes/noticias/2014/11/26/plataforma-dorada-agundez-y-estrella-ganaron-oro-en-clavados-10m',\n",
        " 'http://www.mediotiempo.com/mas-deportes/noticias/2014/11/26/plataforma-dorada-agundez-y-estrella-ganaron-oro-en-clavados-10m',\n",
        " 'http://www.mediotiempo.com/mas-deportes/noticias/2014/11/26/zudikey-rodriguez-oro-en-400-metros-vallas',\n",
        " 'http://www.mediotiempo.com/mas-deportes/noticias/2014/11/26/zudikey-rodriguez-oro-en-400-metros-vallas',\n",
        " 'http://www.mediotiempo.com/mas-deportes/noticias/2014/11/26/zudikey-rodriguez-oro-en-400-metros-vallas',\n",
        " '/mas-deportes/nfl/noticias/2014/11/27/calvin-johnson-impuso-nuevo-record-en-nfl',\n",
        " '/mas-deportes/lucha-libre/noticias/2014/11/27/volador-jr-y-ultimo-guerrero-la-rivalidad-sigue-viva',\n",
        " '/mas-deportes/nfl/noticias/2014/11/27/lions-34-bears-17-megatron-disfruto-festin',\n",
        " '/mas-deportes/noticias/',\n",
        " 'http://www.mediotiempo.com/futbol/seleccion-mexicana/noticias/2014/11/24/mexico-ante-chile-en-copa-america-2015',\n",
        " '/futbol/mexico/editoriales/martin-del-palacio/2014/11/todossomosayotzinapa',\n",
        " '/futbol/mexico/editoriales/martin-del-palacio/2014/11/todossomosayotzinapa',\n",
        " '/futbol/mexico/editoriales/edgardo-codesal/2014/11/analisis-arbitral-de-la-jornada-17',\n",
        " '/futbol/mexico/editoriales/edgardo-codesal/2014/11/analisis-arbitral-de-la-jornada-17',\n",
        " 'http://www.marca.com',\n",
        " 'http://www.marca.com/2014/11/27/mas_deportes/otros_deportes/1417068700.html?cdi=WID33801&s_kw=Noticias_Medio_Tiempo_MX_Noticia1',\n",
        " 'http://www.marca.com/2014/11/27/rankings-deportivos/1417093708.html?cdi=WID33801&s_kw=Noticias_Medio_Tiempo_MX_Noticia2',\n",
        " 'http://www.marca.com/2014/11/27/futbol/futbol_internacional/argentina/1417074846.html?cdi=WID33801&s_kw=Noticias_Medio_Tiempo_MX_Noticia3',\n",
        " 'http://www.marca.com/2014/11/27/futbol/futbol_internacional/liga_francesa/1417090661.html?cdi=WID33801&s_kw=Noticias_Medio_Tiempo_MX_Noticia4',\n",
        " 'http://www.marca.com/2014/11/26/futbol/champions_league/1417041669.html?cdi=WID33801&s_kw=Noticias_Medio_Tiempo_MX_Noticia5',\n",
        " 'http://foros.mediotiempo.com/',\n",
        " 'http://foros.mediotiempo.com/discussion/1068/se-prende-la-estufa-rumbo-al-clausura-2015',\n",
        " 'http://foros.mediotiempo.com/discussion/232/javier-chicharito-hernandez',\n",
        " 'http://foros.mediotiempo.com/',\n",
        " 'http://www.mediotiempo.com/multimedia/infografias/wide&cual=21031',\n",
        " 'http://www.mediotiempo.com/multimedia/infografias/wide&cual=20851',\n",
        " 'http://www.mediotiempo.com/multimedia/infografias/wide&cual=18941',\n",
        " 'http://www.mediotiempo.com/multimedia/infografias/wide&cual=20869',\n",
        " 'http://www.mediotiempo.com/multimedia/infografias/wide&cual=19525',\n",
        " 'http://www5.smartadserver.com/call/pubjumpi/20438/144743/9035/S/[timestamp]/?',\n",
        " 'http://www5.smartadserver.com/call/pubjumpi/20438/144743/9036/M/[timestamp]/?',\n",
        " 'http://www5.smartadserver.com/call/pubjumpi/20438/144743/9038/S/[timestamp]/?',\n",
        " 'http://www.mediotiempo.com/mas-deportes/running/',\n",
        " 'http://www.mediotiempo.com/futbol/liga-espanola/noticias/2014/11/27/jugadores-del-barca-quemaron-llanta',\n",
        " 'http://blogs.mediotiempo.com/martindelp/2014/11/sobre-angelica-rivera-y-su-video/',\n",
        " 'http://blogs.mediotiempo.com/sinfiltro/2014/11/oliver-alvarez-capitan-de-la-seleccion-mexicana-de-waterpolo/',\n",
        " 'http://www5.smartadserver.com/call/pubjumpi/20438/144743/9183/S/[timestamp]/?',\n",
        " 'http://www.mediotiempo.com/http://www.mediotiempo.com//carton.php?id_carton=7805',\n",
        " 'http://www.mediotiempo.com/http://www.mediotiempo.com//carton.php?id_carton=7805',\n",
        " 'http://www.mediotiempo.com//carton.php?id_carton=7804',\n",
        " 'http://www.mediotiempo.com//carton.php?id_carton=7804',\n",
        " 'http://www.mediotiempo.com//carton.php?id_carton=7803',\n",
        " 'http://www.mediotiempo.com//carton.php?id_carton=7803',\n",
        " 'http://www.mediotiempo.com//tecnologia/noticias/2014/11/27/weibo-prohibio-a-sus-usuarios-promocionar-red-social-rival',\n",
        " 'http://www.mediotiempo.com//tecnologia/noticias/2014/11/27/weibo-prohibio-a-sus-usuarios-promocionar-red-social-rival',\n",
        " 'http://www.mediotiempo.com//videojuegos/noticias/2014/11/27/ea-anuncio-ofertas-para-el-black-friday',\n",
        " 'http://www.mediotiempo.com//videojuegos/noticias/2014/11/27/ea-anuncio-ofertas-para-el-black-friday',\n",
        " 'http://www.mediotiempo.com//autos/noticias/2014/11/27/mitsubishi-inauguro-punto-de-venta-en-coacoalco',\n",
        " 'http://www.mediotiempo.com//autos/noticias/2014/11/27/mitsubishi-inauguro-punto-de-venta-en-coacoalco',\n",
        " '#pub1',\n",
        " '#pub3',\n",
        " '/futbol/noticias/',\n",
        " 'http://www.mediotiempo.com/',\n",
        " 'http://www.mediotiempo.com/norte/?NR=1',\n",
        " 'http://www.mediotiempo.com/multimedia/videos/capsulas',\n",
        " 'http://www.mediotiempo.com/futbol/champions-league',\n",
        " 'http://www.mediotiempo.com/futbol/seleccion-mexicana/',\n",
        " 'http://www.mediotiempo.com/futbol/liga-espanola',\n",
        " 'http://www.mediotiempo.com/futbol/mls',\n",
        " 'http://www.mediotiempo.com/mas-deportes/',\n",
        " 'http://www.mediotiempo.com/mas-deportes/motor/',\n",
        " 'http://www.mediotiempo.com/mas-deportes/nfl/',\n",
        " 'http://www.mediotiempo.com/mas-deportes/lucha-libre',\n",
        " 'http://www.mediotiempo.com/mas-deportes/ufc/',\n",
        " 'http://www.mediotiempo.com/chicas/',\n",
        " 'http://www.mediotiempo.com/autos/',\n",
        " 'http://www.mediotiempo.com/tecnologia/',\n",
        " 'http://www.mediotiempo.com/videojuegos/',\n",
        " 'http://www.mediotiempo.com/promociones.php',\n",
        " 'http://www.mediotiempo.com/futbol/noticias/',\n",
        " 'http://www.mediotiempo.com/futbol/libertadores/',\n",
        " 'http://www.mediotiempo.com/liga-espanola/jornadas.php?id_liga=18',\n",
        " 'http://www.mediotiempo.com/jornadas.php?id_liga=22',\n",
        " 'http://www.mediotiempo.com/jornadas.php?id_liga=25',\n",
        " 'http://www.mediotiempo.com/jornadas.php?id_liga=17',\n",
        " 'http://www.mediotiempo.com/jornadas.php?id_liga=78',\n",
        " 'http://www.mediotiempo.com/jornadas.php?id_liga=55',\n",
        " 'http://www.mediotiempo.com/futbol/mls',\n",
        " 'http://www.mediotiempo.com/jornadas.php?id_liga=1&id_torneo=479',\n",
        " 'http://www.mediotiempo.com/jornadas.php?id_liga=68&id_torneo=421',\n",
        " 'http://www.mediotiempo.com/champions-league/jornadas.php?id_liga=14',\n",
        " 'http://www.mediotiempo.com/jornadas.php?id_liga=5',\n",
        " 'http://www.mediotiempo.com/jornadas.php?id_liga=48',\n",
        " 'http://www.mediotiempo.com/jornadas.php?id_liga=24',\n",
        " 'http://www.mediotiempo.com/jornadas.php?id_liga=23',\n",
        " 'http://www.mediotiempo.com/jornadas.php?id_liga=41',\n",
        " 'http://www.mediotiempo.com/jornadas.php?id_liga=2',\n",
        " 'http://www.mediotiempo.com/tabla_general.php?id_liga=2',\n",
        " 'http://www.mediotiempo.com/jornadas.php?id_liga=1&id_torneo=479',\n",
        " 'http://www.mediotiempo.com/tabla_general.php?id_liga=1',\n",
        " 'http://www.mediotiempo.com/goleoindividual.php?id_liga=1',\n",
        " 'http://www.mediotiempo.com/tabla_mejor_ofensiva.php?id_liga=1',\n",
        " 'http://www.mediotiempo.com/tabla_mejor_defensiva.php?id_liga=1',\n",
        " 'http://www.mediotiempo.com/tarjetas_amarillas.php?id_liga=1',\n",
        " 'http://www.mediotiempo.com/tarjetas_rojas.php?id_liga=1',\n",
        " 'http://www.mediotiempo.com/dts.php?id_liga=1&id_torneo=479',\n",
        " 'http://www.mediotiempo.com/tabla_porcentajes.php?id_liga=1',\n",
        " 'http://www.mediotiempo.com/arbitros.php?id_liga=1&id_torneo=479',\n",
        " 'http://www.mediotiempo.com/lmylp.php?id=12418',\n",
        " 'http://www.mediotiempo.com/multimedia/infografias/wide&cual=11457',\n",
        " 'http://www.mediotiempo.com/historico_mexico.php',\n",
        " 'http://www.mediotiempo.com/jornadas.php?id_liga=68&id_torneo=421&jornada=5',\n",
        " 'http://www.mediotiempo.com/tabla_grupos.php?id_liga=68&id_torneo=421',\n",
        " 'http://www.mediotiempo.com/seleccion-mexicana/jornadas.php?torneo=243',\n",
        " 'http://www.mediotiempo.com/equipo/mexico',\n",
        " 'http://www.mediotiempo.com/jornadas.php?id_liga=13&jornada=tercer_cuarto',\n",
        " 'http://www.mediotiempo.com/jornadas.php?id_liga=36&jornada=1',\n",
        " 'http://www.mediotiempo.com/jornadas.php?id_liga=30',\n",
        " 'http://www.mediotiempo.com/jornadas.php?id_liga=51',\n",
        " 'http://www.mediotiempo.com/jornadas.php?id_liga=30',\n",
        " 'http://www.mediotiempo.com/jornadas.php?torneo=219&id_liga=9',\n",
        " 'http://www.mediotiempo.com/mundiales.php',\n",
        " 'http://www.mediotiempo.com/jornadas.php?id_liga=27&torneo=337&jornada=hexagonal',\n",
        " 'http://www.mediotiempo.com/jornadas.php?id_liga=28&jornada=15',\n",
        " 'http://www.mediotiempo.com/jornadas.php?id_liga=70&jornada=8',\n",
        " 'http://www.mediotiempo.com/jornadas.php?id_liga=73&jornada=6',\n",
        " 'http://www.mediotiempo.com/jornadas.php?id_liga=72',\n",
        " 'http://www.mediotiempo.com/jornadas.php?id_liga=74',\n",
        " 'http://www.mediotiempo.com/multimedia/videos/capsulas',\n",
        " 'http://www.mediotiempo.com/multimedia/videos/moneros-futboleros',\n",
        " 'http://www.mediotiempo.com/multimedia/infografias/wide',\n",
        " 'http://www.mediotiempo.com/futbol/galerias/',\n",
        " 'http://www.mediotiempo.com/futbol/galerias/',\n",
        " 'http://www.mediotiempo.com/mas-deportes/galerias/',\n",
        " 'http://www.mediotiempo.com/multimedia/infografias/simuladores',\n",
        " 'http://www.mediotiempo.com/futbol/editoriales/',\n",
        " 'http://fantastica.mediotiempo.com/',\n",
        " 'http://quinielas.mediotiempo.com/',\n",
        " 'http://juegos.mediotiempo.com/',\n",
        " 'http://www.facebook.com/somosmediotiempo?ref=ts',\n",
        " 'http://www.twitter.com/mediotiempo',\n",
        " 'https://plus.google.com/+MedioTiempo',\n",
        " 'http://www.youtube.com/user/MedioTiempoTV12',\n",
        " 'http://instagram.com/mediotiempocom/',\n",
        " 'https://vine.co/MedioTiempo',\n",
        " 'http://www.mediotiempo.com/rss',\n",
        " 'http://www.cnnmexico.com',\n",
        " 'http://www.cnnexpansion.com',\n",
        " 'http://www.chilango.com',\n",
        " 'http://www.quien.com',\n",
        " 'http://www.quo.mx',\n",
        " 'http://www.metroscubicos.com',\n",
        " 'http://www.adnpolitico.com/',\n",
        " 'http://lifeandstyle.mx/',\n",
        " 'http://www.mediotiempo.com/legales/?seccion=terminos',\n",
        " 'http://www.mediotiempo.com/legales/?seccion=privacidad',\n",
        " 'mailto:contacto@mediotiempo.com',\n",
        " 'http://mediakit.grupoexpansion.mx/',\n",
        " ' http://www.quantcast.com/p-d814kY5bRc43k']"
       ]
      }
     ],
     "prompt_number": 33
    },
    {
     "cell_type": "code",
     "collapsed": false,
     "input": [
      "class Animal(object):\n",
      "    \n",
      "    def __init__(self, nombre):\n",
      "        self.nombre = nombre\n",
      "        self.estomago = []\n",
      "        \n",
      "    def __repr__(self):\n",
      "        return self.nombre\n",
      "    \n",
      "    def pregunta(self):\n",
      "        return '%s esta %s' % (self.nombre, 'lleno' if self.estomago else 'hambriento')\n",
      "    \n",
      "    def come(self, comida):\n",
      "        if comida in self.estomago:\n",
      "            print '%s ya comio %s' % (self.nombre, comida)\n",
      "        else:\n",
      "            print '%s come %s!' %(self.nombre, comida)\n",
      "            self.estomago.append(comida)"
     ],
     "language": "python",
     "metadata": {},
     "outputs": [],
     "prompt_number": 34
    },
    {
     "cell_type": "code",
     "collapsed": false,
     "input": [
      "tortuga = Animal('Donatello')\n",
      "gato = Animal('Gardfield')\n",
      "bestia = Animal('Chupacabras')"
     ],
     "language": "python",
     "metadata": {},
     "outputs": [],
     "prompt_number": 35
    },
    {
     "cell_type": "code",
     "collapsed": false,
     "input": [
      "bestia.nombre"
     ],
     "language": "python",
     "metadata": {},
     "outputs": [
      {
       "metadata": {},
       "output_type": "pyout",
       "prompt_number": 36,
       "text": [
        "'Chupacabras'"
       ]
      }
     ],
     "prompt_number": 36
    },
    {
     "cell_type": "code",
     "collapsed": false,
     "input": [
      "bestia.pregunta()"
     ],
     "language": "python",
     "metadata": {},
     "outputs": [
      {
       "metadata": {},
       "output_type": "pyout",
       "prompt_number": 37,
       "text": [
        "'Chupacabras esta hambriento'"
       ]
      }
     ],
     "prompt_number": 37
    },
    {
     "cell_type": "code",
     "collapsed": false,
     "input": [
      "bestia.come(gato)"
     ],
     "language": "python",
     "metadata": {},
     "outputs": [
      {
       "output_type": "stream",
       "stream": "stdout",
       "text": [
        "Chupacabras come Gardfield!\n"
       ]
      }
     ],
     "prompt_number": 38
    },
    {
     "cell_type": "code",
     "collapsed": false,
     "input": [
      "gato in bestia.estomago"
     ],
     "language": "python",
     "metadata": {},
     "outputs": [
      {
       "metadata": {},
       "output_type": "pyout",
       "prompt_number": 39,
       "text": [
        "True"
       ]
      }
     ],
     "prompt_number": 39
    },
    {
     "cell_type": "code",
     "collapsed": false,
     "input": [
      "tortuga in gato.estomago"
     ],
     "language": "python",
     "metadata": {},
     "outputs": [
      {
       "metadata": {},
       "output_type": "pyout",
       "prompt_number": 40,
       "text": [
        "False"
       ]
      }
     ],
     "prompt_number": 40
    },
    {
     "cell_type": "code",
     "collapsed": false,
     "input": [
      "palabras = 'porque las abejas hacen miel'.split()\n",
      "\n",
      "for index, palabra in enumerate(palabras):\n",
      "    print index, palabra"
     ],
     "language": "python",
     "metadata": {},
     "outputs": [
      {
       "output_type": "stream",
       "stream": "stdout",
       "text": [
        "0 porque\n",
        "1 las\n",
        "2 abejas\n",
        "3 hacen\n",
        "4 miel\n"
       ]
      }
     ],
     "prompt_number": 41
    },
    {
     "cell_type": "code",
     "collapsed": false,
     "input": [
      "chicos='Pepe','Tomas','Alberto'\n",
      "chicas='Sandra','Esperanza','Rebeca'\n",
      "zip(chicos,chicas)"
     ],
     "language": "python",
     "metadata": {},
     "outputs": [
      {
       "metadata": {},
       "output_type": "pyout",
       "prompt_number": 42,
       "text": [
        "[('Pepe', 'Sandra'), ('Tomas', 'Esperanza'), ('Alberto', 'Rebeca')]"
       ]
      }
     ],
     "prompt_number": 42
    },
    {
     "cell_type": "code",
     "collapsed": false,
     "input": [
      "from __builtin__ import any\n",
      "\n",
      "def pasos_a_caminar():\n",
      "    print 'inicio'\n",
      "    for i in xrange(10):\n",
      "        yield i\n",
      "    print 'fin'\n",
      "\n",
      "# any() detiene el flujo tan pronto se cumpla la condicion\n",
      "print any(x > 5 for x in pasos_a_caminar())\n",
      "print\n",
      "print any(x > 10 for x in pasos_a_caminar())"
     ],
     "language": "python",
     "metadata": {},
     "outputs": [
      {
       "output_type": "stream",
       "stream": "stdout",
       "text": [
        "inicio\n",
        "True\n",
        "\n",
        "inicio\n",
        "fin\n",
        "False\n"
       ]
      }
     ],
     "prompt_number": 43
    },
    {
     "cell_type": "markdown",
     "metadata": {},
     "source": [
      "Se define la funci\u00f3n pasos al caminar, al iniciar imprime el texto inicio, luego hace una iteraci\u00f3n hasta 10 y al terminar imprime fin.\n",
      "Luego se manda a llamar e imprimir los valores de acuerdo a dos condiciones."
     ]
    }
   ],
   "metadata": {}
  }
 ]
}