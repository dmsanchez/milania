{
 "metadata": {
  "name": "",
  "signature": "sha256:5375881db38a1fab5d5f8ab5d799724ce3a4d028a7e6d6cc780b9cc933288249"
 },
 "nbformat": 3,
 "nbformat_minor": 0,
 "worksheets": [
  {
   "cells": [
    {
     "cell_type": "code",
     "collapsed": false,
     "input": [
      "import android"
     ],
     "language": "python",
     "metadata": {},
     "outputs": [],
     "prompt_number": 70
    },
    {
     "cell_type": "code",
     "collapsed": false,
     "input": [
      "!adb devices"
     ],
     "language": "python",
     "metadata": {},
     "outputs": [
      {
       "output_type": "stream",
       "stream": "stdout",
       "text": [
        "List of devices attached \r\n",
        "TA89008UAF\tdevice\r\n",
        "\r\n"
       ]
      }
     ],
     "prompt_number": 71
    },
    {
     "cell_type": "code",
     "collapsed": false,
     "input": [
      "!adb forward tcp:9999 tcp:53065"
     ],
     "language": "python",
     "metadata": {},
     "outputs": [],
     "prompt_number": 72
    },
    {
     "cell_type": "code",
     "collapsed": false,
     "input": [
      "droid = android.Android()"
     ],
     "language": "python",
     "metadata": {},
     "outputs": [],
     "prompt_number": 73
    },
    {
     "cell_type": "code",
     "collapsed": false,
     "input": [
      "droid.ttsSpeak(\"adios a todos\")"
     ],
     "language": "python",
     "metadata": {},
     "outputs": [
      {
       "metadata": {},
       "output_type": "pyout",
       "prompt_number": 74,
       "text": [
        "Result(id=0, result=None, error=None)"
       ]
      }
     ],
     "prompt_number": 74
    },
    {
     "cell_type": "code",
     "collapsed": false,
     "input": [
      "res = droid.dialogGetInput('ITS','mensaje que qieren: ').result\n",
      "print (res)"
     ],
     "language": "python",
     "metadata": {},
     "outputs": [
      {
       "output_type": "stream",
       "stream": "stdout",
       "text": [
        "dddd\n"
       ]
      }
     ],
     "prompt_number": 12
    },
    {
     "cell_type": "code",
     "collapsed": false,
     "input": [
      "droid.makeToast('hola')"
     ],
     "language": "python",
     "metadata": {},
     "outputs": [
      {
       "metadata": {},
       "output_type": "pyout",
       "prompt_number": 29,
       "text": [
        "Result(id=0, result=None, error=None)"
       ]
      }
     ],
     "prompt_number": 29
    },
    {
     "cell_type": "code",
     "collapsed": false,
     "input": [
      "print droid.getClipboard().result"
     ],
     "language": "python",
     "metadata": {},
     "outputs": [
      {
       "output_type": "stream",
       "stream": "stdout",
       "text": [
        "mediotiempo\n"
       ]
      }
     ],
     "prompt_number": 14
    },
    {
     "cell_type": "code",
     "collapsed": false,
     "input": [
      "droid.setClipboard(\"no se encuentra la pagina\")"
     ],
     "language": "python",
     "metadata": {},
     "outputs": [
      {
       "metadata": {},
       "output_type": "pyout",
       "prompt_number": 15,
       "text": [
        "Result(id=28, result=None, error=None)"
       ]
      }
     ],
     "prompt_number": 15
    },
    {
     "cell_type": "code",
     "collapsed": false,
     "input": [
      "droid.startSensingTime(1,100)"
     ],
     "language": "python",
     "metadata": {},
     "outputs": [
      {
       "output_type": "stream",
       "stream": "stdout",
       "text": [
        "com.googlecode.android_scripting.rpc.RpcError: Unknown RPC.\n"
       ]
      },
      {
       "metadata": {},
       "output_type": "pyout",
       "prompt_number": 16,
       "text": [
        "Result(id=29, result=None, error=u'com.googlecode.android_scripting.rpc.RpcError: Unknown RPC.')"
       ]
      }
     ],
     "prompt_number": 16
    },
    {
     "cell_type": "code",
     "collapsed": false,
     "input": [
      "for i in range(10):\n",
      "    e = droid.eventPoll(1)\n",
      "    if e.result is not None:\n",
      "        print True\n",
      "    else:\n",
      "        time.sleep(2)\n",
      "        print False"
     ],
     "language": "python",
     "metadata": {},
     "outputs": [
      {
       "output_type": "stream",
       "stream": "stdout",
       "text": [
        "True\n",
        "True\n",
        "True\n",
        "True\n",
        "True\n",
        "True\n",
        "True\n",
        "True\n",
        "True\n",
        "True\n"
       ]
      }
     ],
     "prompt_number": 30
    },
    {
     "cell_type": "code",
     "collapsed": false,
     "input": [
      "droid.stopSensing()"
     ],
     "language": "python",
     "metadata": {},
     "outputs": [
      {
       "metadata": {},
       "output_type": "pyout",
       "prompt_number": 31,
       "text": [
        "Result(id=11, result=None, error=None)"
       ]
      }
     ],
     "prompt_number": 31
    },
    {
     "cell_type": "code",
     "collapsed": false,
     "input": [
      "print(droid)"
     ],
     "language": "python",
     "metadata": {},
     "outputs": [
      {
       "output_type": "stream",
       "stream": "stdout",
       "text": [
        "<android.Android object at 0x7f6ad84c28d0>\n"
       ]
      }
     ],
     "prompt_number": 32
    },
    {
     "cell_type": "code",
     "collapsed": false,
     "input": [
      "droid.startLocating()"
     ],
     "language": "python",
     "metadata": {},
     "outputs": [
      {
       "metadata": {},
       "output_type": "pyout",
       "prompt_number": 43,
       "text": [
        "Result(id=17, result=None, error=None)"
       ]
      }
     ],
     "prompt_number": 43
    },
    {
     "cell_type": "code",
     "collapsed": false,
     "input": [
      "result = droid.getLastKnownLocation()\n",
      "result"
     ],
     "language": "python",
     "metadata": {},
     "outputs": [
      {
       "metadata": {},
       "output_type": "pyout",
       "prompt_number": 46,
       "text": [
        "Result(id=19, result={u'passive': {u'bearing': 81, u'altitude': 1454.3836669921875, u'time': 1416085395800, u'longitude': -96.91528125675107, u'provider': u'fused', u'latitude': 19.51987157577604, u'speed': 0, u'accuracy': 660.0160522460938}, u'network': {u'bearing': 0, u'altitude': 0, u'time': 1416085395012, u'longitude': -96.9155535, u'provider': u'network', u'latitude': 19.5200645, u'speed': 0, u'accuracy': 109.5}, u'gps': {u'bearing': 2.055466413497925, u'altitude': 1455.2486572265625, u'time': 1416003231700, u'longitude': -96.92596512213977, u'provider': u'gps', u'latitude': 19.53647546265452, u'speed': 0, u'accuracy': 5389.4658203125}}, error=None)"
       ]
      }
     ],
     "prompt_number": 46
    },
    {
     "cell_type": "code",
     "collapsed": false,
     "input": [
      "longitud = result.result['gps']['longitude']\n",
      "latitud = result.result['gps']['latitude']\n",
      "print (longitud, latitud)"
     ],
     "language": "python",
     "metadata": {},
     "outputs": [
      {
       "output_type": "stream",
       "stream": "stdout",
       "text": [
        "(-96.92596512213977, 19.53647546265452)\n"
       ]
      }
     ],
     "prompt_number": 52
    },
    {
     "cell_type": "code",
     "collapsed": false,
     "input": [
      "droid.toggleWifiState()"
     ],
     "language": "python",
     "metadata": {},
     "outputs": [
      {
       "metadata": {},
       "output_type": "pyout",
       "prompt_number": 54,
       "text": [
        "Result(id=23, result=True, error=None)"
       ]
      }
     ],
     "prompt_number": 54
    },
    {
     "cell_type": "code",
     "collapsed": false,
     "input": [
      "droid.viewContacts()"
     ],
     "language": "python",
     "metadata": {},
     "outputs": [
      {
       "metadata": {},
       "output_type": "pyout",
       "prompt_number": 57,
       "text": [
        "Result(id=26, result=None, error=None)"
       ]
      }
     ],
     "prompt_number": 57
    },
    {
     "cell_type": "code",
     "collapsed": false,
     "input": [
      "dt = 100"
     ],
     "language": "python",
     "metadata": {},
     "outputs": [],
     "prompt_number": 86
    },
    {
     "cell_type": "code",
     "collapsed": false,
     "input": [
      "final = 3000"
     ],
     "language": "python",
     "metadata": {},
     "outputs": [],
     "prompt_number": 87
    },
    {
     "cell_type": "code",
     "collapsed": false,
     "input": [
      "import time"
     ],
     "language": "python",
     "metadata": {},
     "outputs": [],
     "prompt_number": 84
    },
    {
     "cell_type": "code",
     "collapsed": false,
     "input": [
      "tiempo = 0 \n",
      "droid.startSensingTimed(2,dt)\n",
      "\n",
      "while tiempo <= final:\n",
      "    print droid.sensorsReadAccelerometer().result\n",
      "    time.sleep(dt/1000.0)\n",
      "    tiempo += dt\n",
      "\n",
      "droid.stopSensing()"
     ],
     "language": "python",
     "metadata": {},
     "outputs": [
      {
       "output_type": "stream",
       "stream": "stdout",
       "text": [
        "[0.1569064, -0.1176798, 10.120462]\n",
        "[0.1569064, -0.1176798, 10.120462]"
       ]
      },
      {
       "output_type": "stream",
       "stream": "stdout",
       "text": [
        "\n",
        "[0.1569064, -0.1176798, 10.120462]"
       ]
      },
      {
       "output_type": "stream",
       "stream": "stdout",
       "text": [
        "\n",
        "[0.1569064, -0.1176798, 10.120462]"
       ]
      },
      {
       "output_type": "stream",
       "stream": "stdout",
       "text": [
        "\n",
        "[0.1569064, -0.1176798, 10.120462]"
       ]
      },
      {
       "output_type": "stream",
       "stream": "stdout",
       "text": [
        "\n",
        "[0.1569064, -0.1176798, 10.120462]"
       ]
      },
      {
       "output_type": "stream",
       "stream": "stdout",
       "text": [
        "\n",
        "[0.1569064, -0.1176798, 10.120462]"
       ]
      },
      {
       "output_type": "stream",
       "stream": "stdout",
       "text": [
        "\n",
        "[0.1569064, -0.1176798, 10.120462]"
       ]
      },
      {
       "output_type": "stream",
       "stream": "stdout",
       "text": [
        "\n",
        "[0.1569064, -0.1176798, 10.120462]"
       ]
      },
      {
       "output_type": "stream",
       "stream": "stdout",
       "text": [
        "\n",
        "[0.1569064, -0.1176798, 10.120462]"
       ]
      },
      {
       "output_type": "stream",
       "stream": "stdout",
       "text": [
        "\n",
        "[0.1569064, -0.1176798, 10.120462]"
       ]
      },
      {
       "output_type": "stream",
       "stream": "stdout",
       "text": [
        "\n",
        "[0.1569064, -0.1176798, 10.120462]"
       ]
      },
      {
       "output_type": "stream",
       "stream": "stdout",
       "text": [
        "\n",
        "[0.1569064, -0.1176798, 10.120462]"
       ]
      },
      {
       "output_type": "stream",
       "stream": "stdout",
       "text": [
        "\n",
        "[0.1569064, -0.1176798, 10.120462]"
       ]
      },
      {
       "output_type": "stream",
       "stream": "stdout",
       "text": [
        "\n",
        "[0.1569064, -0.1176798, 10.120462]"
       ]
      },
      {
       "output_type": "stream",
       "stream": "stdout",
       "text": [
        "\n",
        "[0.1569064, -0.1176798, 10.120462]"
       ]
      },
      {
       "output_type": "stream",
       "stream": "stdout",
       "text": [
        "\n",
        "[0.1569064, -0.1176798, 10.120462]"
       ]
      },
      {
       "output_type": "stream",
       "stream": "stdout",
       "text": [
        "\n",
        "[0.1569064, -0.1176798, 10.120462]"
       ]
      },
      {
       "output_type": "stream",
       "stream": "stdout",
       "text": [
        "\n",
        "[0.1569064, -0.1176798, 10.120462]"
       ]
      },
      {
       "output_type": "stream",
       "stream": "stdout",
       "text": [
        "\n",
        "[0.1569064, -0.1176798, 10.120462]"
       ]
      },
      {
       "output_type": "stream",
       "stream": "stdout",
       "text": [
        "\n",
        "[0.1569064, -0.1176798, 10.120462]"
       ]
      },
      {
       "output_type": "stream",
       "stream": "stdout",
       "text": [
        "\n",
        "[0.1569064, -0.1176798, 10.120462]"
       ]
      },
      {
       "output_type": "stream",
       "stream": "stdout",
       "text": [
        "\n",
        "[0.1569064, -0.1176798, 10.120462]"
       ]
      },
      {
       "output_type": "stream",
       "stream": "stdout",
       "text": [
        "\n",
        "[0.1569064, -0.1176798, 10.120462]"
       ]
      },
      {
       "output_type": "stream",
       "stream": "stdout",
       "text": [
        "\n",
        "[0.1569064, -0.1176798, 10.120462]"
       ]
      },
      {
       "output_type": "stream",
       "stream": "stdout",
       "text": [
        "\n",
        "[0.1569064, -0.1176798, 10.120462]"
       ]
      },
      {
       "output_type": "stream",
       "stream": "stdout",
       "text": [
        "\n",
        "[0.1569064, -0.1176798, 10.120462]"
       ]
      },
      {
       "output_type": "stream",
       "stream": "stdout",
       "text": [
        "\n",
        "[0.1569064, -0.1176798, 10.120462]"
       ]
      },
      {
       "output_type": "stream",
       "stream": "stdout",
       "text": [
        "\n",
        "[0.1569064, -0.1176798, 10.120462]"
       ]
      },
      {
       "output_type": "stream",
       "stream": "stdout",
       "text": [
        "\n",
        "[0.1569064, -0.1176798, 10.120462]"
       ]
      },
      {
       "output_type": "stream",
       "stream": "stdout",
       "text": [
        "\n",
        "[0.1569064, -0.1176798, 10.120462]"
       ]
      },
      {
       "output_type": "stream",
       "stream": "stdout",
       "text": [
        "\n"
       ]
      },
      {
       "metadata": {},
       "output_type": "pyout",
       "prompt_number": 90,
       "text": [
        "Result(id=50, result=None, error=None)"
       ]
      }
     ],
     "prompt_number": 90
    },
    {
     "cell_type": "code",
     "collapsed": false,
     "input": [
      "\n",
      "result = droid.getLastKnownLocation()\n",
      "longitud = result.result['gps']['longitude']\n",
      "latitud = result.result['gps']['latitude']\n",
      "print (longitud, latitud)"
     ],
     "language": "python",
     "metadata": {},
     "outputs": [
      {
       "output_type": "stream",
       "stream": "stdout",
       "text": [
        "(-96.92596512213977, 19.53647546265452)\n"
       ]
      }
     ],
     "prompt_number": 91
    },
    {
     "cell_type": "code",
     "collapsed": false,
     "input": [
      "droid.dialogCreateAlert(\"Posicion Principal\",\"Estas en tu trabajo?\")\n",
      "droid.dialogSetPositiveButtonText(\"Yes\")\n",
      "droid.dialogSetNegativeButtonText(\"No\")\n",
      "droid.dialogShow()\n",
      "response = droid.dialogGetResponse().result\n",
      "droid.dialogDismiss()\n",
      "if response.has_key(\"which\"):\n",
      "     result=response[\"which\"]\n",
      "     if result==\"positive\":\n",
      "       \n",
      "     elif result==\"negative\":\n",
      "       print \"ponte a trabajar\""
     ],
     "language": "python",
     "metadata": {},
     "outputs": [],
     "prompt_number": 101
    }
   ],
   "metadata": {}
  }
 ]
}