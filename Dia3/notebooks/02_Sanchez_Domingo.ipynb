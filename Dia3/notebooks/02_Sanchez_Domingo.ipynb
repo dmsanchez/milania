{
 "metadata": {
  "name": "",
  "signature": "sha256:5cd3416a5a403012d332d0e581e0ff920b59bb97932a6797d29d4b617292113c"
 },
 "nbformat": 3,
 "nbformat_minor": 0,
 "worksheets": [
  {
   "cells": [
    {
     "cell_type": "code",
     "collapsed": false,
     "input": [
      "import urllib\n",
      "import json\n",
      "\n",
      "destino = '/tmp/imagen.jpg'\n",
      "\n",
      "figshare_id = '1233505'\n",
      "\n",
      "figshare_uri = 'https://api.figshare.com/v1/articles/%s' % figshare_id\n",
      "\n",
      "respuesta_json = urllib.urlopen(figshare_uri)\n",
      "\n",
      "informacion_articulo = json.load(respuesta_json)\n",
      "\n",
      "img_ur_descarga = informacion_articulo['items'][0]['files'][0]['download_url']\n",
      "\n",
      "urllib.urlretrieve(img_ur_descarga, destino)"
     ],
     "language": "python",
     "metadata": {},
     "outputs": [
      {
       "metadata": {},
       "output_type": "pyout",
       "prompt_number": 10,
       "text": [
        "('/tmp/imagen.jpg', <httplib.HTTPMessage instance at 0x7fe71dd29170>)"
       ]
      }
     ],
     "prompt_number": 10
    },
    {
     "cell_type": "code",
     "collapsed": false,
     "input": [
      "import urllib\n",
      "import json\n",
      "\n",
      "destino = '/tmp/imagen2.jpg'\n",
      "\n",
      "figshare_id = '1233466'\n",
      "\n",
      "figshare_uri = 'https://api.figshare.com/v1/articles/%s' % figshare_id\n",
      "\n",
      "respuesta_json = urllib.urlopen(figshare_uri)\n",
      "\n",
      "informacion_articulo = json.load(respuesta_json)\n",
      "\n",
      "img_ur_descarga = informacion_articulo['items'][0]['files'][0]['download_url']\n",
      "\n",
      "urllib.urlretrieve(img_ur_descarga, destino)"
     ],
     "language": "python",
     "metadata": {},
     "outputs": [
      {
       "metadata": {},
       "output_type": "pyout",
       "prompt_number": 11,
       "text": [
        "('/tmp/imagen2.jpg', <httplib.HTTPMessage instance at 0x7fe71dd15f80>)"
       ]
      }
     ],
     "prompt_number": 11
    },
    {
     "cell_type": "code",
     "collapsed": false,
     "input": [
      "import urllib\n",
      "import json\n",
      "\n",
      "destino = '/tmp/imagen3.jpg'\n",
      "\n",
      "figshare_id = '1233468'\n",
      "\n",
      "figshare_uri = 'https://api.figshare.com/v1/articles/%s' % figshare_id\n",
      "\n",
      "respuesta_json = urllib.urlopen(figshare_uri)\n",
      "\n",
      "informacion_articulo = json.load(respuesta_json)\n",
      "\n",
      "img_ur_descarga = informacion_articulo['items'][0]['files'][0]['download_url']\n",
      "\n",
      "urllib.urlretrieve(img_ur_descarga, destino)"
     ],
     "language": "python",
     "metadata": {},
     "outputs": [
      {
       "metadata": {},
       "output_type": "pyout",
       "prompt_number": 12,
       "text": [
        "('/tmp/imagen3.jpg', <httplib.HTTPMessage instance at 0x7fe71dd295f0>)"
       ]
      }
     ],
     "prompt_number": 12
    },
    {
     "cell_type": "code",
     "collapsed": false,
     "input": [
      "import urllib\n",
      "import json\n",
      "\n",
      "destino = '/tmp/imagen_julio.jpg'\n",
      "\n",
      "figshare_id = '1233478'\n",
      "\n",
      "figshare_uri = 'https://api.figshare.com/v1/articles/%s' % figshare_id\n",
      "\n",
      "respuesta_json = urllib.urlopen(figshare_uri)\n",
      "\n",
      "informacion_articulo = json.load(respuesta_json)\n",
      "\n",
      "img_ur_descarga = informacion_articulo['items'][0]['files'][0]['download_url']\n",
      "\n",
      "urllib.urlretrieve(img_ur_descarga, destino)"
     ],
     "language": "python",
     "metadata": {},
     "outputs": [
      {
       "metadata": {},
       "output_type": "pyout",
       "prompt_number": 13,
       "text": [
        "('/tmp/imagen_julio.jpg', <httplib.HTTPMessage instance at 0x7fe71dd297a0>)"
       ]
      }
     ],
     "prompt_number": 13
    },
    {
     "cell_type": "code",
     "collapsed": false,
     "input": [
      "respuesta_json = urllib.urlopen(figshare_uri)"
     ],
     "language": "python",
     "metadata": {},
     "outputs": [],
     "prompt_number": 3
    },
    {
     "cell_type": "code",
     "collapsed": false,
     "input": [
      "respuesta_json"
     ],
     "language": "python",
     "metadata": {},
     "outputs": [
      {
       "metadata": {},
       "output_type": "pyout",
       "prompt_number": 4,
       "text": [
        "<addinfourl at 140630614926544 whose fp = <socket._fileobject object at 0x7fe71dd83ed0>>"
       ]
      }
     ],
     "prompt_number": 4
    },
    {
     "cell_type": "code",
     "collapsed": false,
     "input": [
      "informacion_articulo = json.load(respuesta_json)"
     ],
     "language": "python",
     "metadata": {},
     "outputs": [],
     "prompt_number": 5
    },
    {
     "cell_type": "code",
     "collapsed": false,
     "input": [
      "informacion_articulo"
     ],
     "language": "python",
     "metadata": {},
     "outputs": [
      {
       "metadata": {},
       "output_type": "pyout",
       "prompt_number": 6,
       "text": [
        "{u'count': 1,\n",
        " u'items': [{u'article_id': 1233505,\n",
        "   u'authors': [{u'first_name': u'Manuel',\n",
        "     u'full_name': u'Manuel Sanchez',\n",
        "     u'id': 656753,\n",
        "     u'last_name': u'Sanchez'}],\n",
        "   u'categories': [{u'id': 65, u'name': u'Botany'}],\n",
        "   u'defined_type': u'figure',\n",
        "   u'description': u'<p>Foto de una ara\\xf1a muy colorida en el laboratorio nacional de informatica aplicada</p>',\n",
        "   u'description_nohtml': u'Foto de una ara\\xf1a muy colorida en el laboratorio nacional de informatica aplicada',\n",
        "   u'doi': u'http://dx.doi.org/10.6084/m9.figshare.1233505',\n",
        "   u'downloads': 0,\n",
        "   u'figshare_url': u'http://figshare.com/articles/Ara_a_tomada_en_LANIA/1233505',\n",
        "   u'files': [{u'download_url': u'http://files.figshare.com/1784928/IMG_20141108_140634496.jpg',\n",
        "     u'id': 1784928,\n",
        "     u'mime_type': u'image/jpeg',\n",
        "     u'name': u'IMG_20141108_140634496.jpg',\n",
        "     u'size': u'1.69 MB',\n",
        "     u'thumb': u'http://previews.figshare.com/1784928/250_1784928.jpg'}],\n",
        "   u'links': [],\n",
        "   u'master_publisher_id': 0,\n",
        "   u'owner': {u'full_name': u'Manuel Sanchez', u'id': 656753},\n",
        "   u'published_date': u'21:23, Nov 08, 2014',\n",
        "   u'publisher_citation': u'',\n",
        "   u'publisher_doi': u'',\n",
        "   u'shares': 0,\n",
        "   u'status': u'Public',\n",
        "   u'tags': [{u'id': 202699, u'name': u'android-based'},\n",
        "    {u'id': 2939, u'name': u'photograph'}],\n",
        "   u'title': u'Ara\\xf1a tomada en LANIA',\n",
        "   u'total_size': u'1.69 MB',\n",
        "   u'version': 1,\n",
        "   u'views': 2}]}"
       ]
      }
     ],
     "prompt_number": 6
    },
    {
     "cell_type": "code",
     "collapsed": false,
     "input": [
      "img_ur_descarga = informacion_articulo['items'][0]['files'][0]['download_url']"
     ],
     "language": "python",
     "metadata": {},
     "outputs": [],
     "prompt_number": 7
    },
    {
     "cell_type": "code",
     "collapsed": false,
     "input": [
      "urllib.urlretrieve(img_ur_descarga, destino)"
     ],
     "language": "python",
     "metadata": {},
     "outputs": [
      {
       "metadata": {},
       "output_type": "pyout",
       "prompt_number": 8,
       "text": [
        "('/tmp/imagen.jpg', <httplib.HTTPMessage instance at 0x7fe71dd15908>)"
       ]
      }
     ],
     "prompt_number": 8
    },
    {
     "cell_type": "code",
     "collapsed": false,
     "input": [],
     "language": "python",
     "metadata": {},
     "outputs": [],
     "prompt_number": 9
    }
   ],
   "metadata": {}
  }
 ]
}